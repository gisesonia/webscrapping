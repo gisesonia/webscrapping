{
  "nbformat": 4,
  "nbformat_minor": 0,
  "metadata": {
    "kernelspec": {
      "display_name": "Python 3",
      "language": "python",
      "name": "python3"
    },
    "language_info": {
      "codemirror_mode": {
        "name": "ipython",
        "version": 3
      },
      "file_extension": ".py",
      "mimetype": "text/x-python",
      "name": "python",
      "nbconvert_exporter": "python",
      "pygments_lexer": "ipython3",
      "version": "3.7.6"
    },
    "papermill": {
      "duration": 38.331156,
      "end_time": "2021-02-23T22:52:09.083881",
      "environment_variables": {},
      "exception": null,
      "input_path": "__notebook__.ipynb",
      "output_path": "__notebook__.ipynb",
      "parameters": {},
      "start_time": "2021-02-23T22:51:30.752725",
      "version": "2.1.0"
    },
    "colab": {
      "name": "webscrapping-com-python-parte-1.ipynb",
      "provenance": [],
      "include_colab_link": true
    }
  },
  "cells": [
    {
      "cell_type": "markdown",
      "metadata": {
        "id": "view-in-github",
        "colab_type": "text"
      },
      "source": [
        "<a href=\"https://colab.research.google.com/github/gisesonia/webscrapping/blob/main/webscrapping_com_python_parte_1.ipynb\" target=\"_parent\"><img src=\"https://colab.research.google.com/assets/colab-badge.svg\" alt=\"Open In Colab\"/></a>"
      ]
    },
    {
      "cell_type": "markdown",
      "metadata": {
        "papermill": {
          "duration": 0.05341,
          "end_time": "2021-02-23T22:51:35.184093",
          "exception": false,
          "start_time": "2021-02-23T22:51:35.130683",
          "status": "completed"
        },
        "tags": [],
        "id": "RzsGfHdyhLA1"
      },
      "source": [
        "# Web Scraping com Python (Parte 1)\n",
        "\n",
        "## Resumo\n",
        "\n",
        "Neste notebook, iremos conhecer o [Beautiful Soup](https://www.crummy.com/software/BeautifulSoup/bs4/doc/) e faremos alguns exemplos com HTML para entendemos o funcionamento desta biblioteca.\n",
        "\n",
        "## Para saber mais:\n",
        "\n",
        "* Palestras e cursos do [Samsung Ocean](http://www.oceanbrasil.com/).\n",
        "* Ryan Mitchell. Web Scraping com Python: Coletando Mais Dados da Web Moderna. Novatec Editora, 2019."
      ]
    },
    {
      "cell_type": "markdown",
      "metadata": {
        "papermill": {
          "duration": 0.051679,
          "end_time": "2021-02-23T22:51:35.288133",
          "exception": false,
          "start_time": "2021-02-23T22:51:35.236454",
          "status": "completed"
        },
        "tags": [],
        "id": "sQ5Ax2p-hLBf"
      },
      "source": [
        "## 1) Explorando o HTML\n",
        "\n",
        "Para os exemplos a seguir, iremos utilizar o código HTML abaixo."
      ]
    },
    {
      "cell_type": "markdown",
      "metadata": {
        "papermill": {
          "duration": 0.051638,
          "end_time": "2021-02-23T22:51:35.391461",
          "exception": false,
          "start_time": "2021-02-23T22:51:35.339823",
          "status": "completed"
        },
        "tags": [],
        "id": "PrA_9xewhLBj"
      },
      "source": [
        "<html>\n",
        "    <head>\n",
        "        <title>Indicados e vencedores do Oscar em 2020</title>\n",
        "    </head>\n",
        "    <body>\n",
        "        <h1>Oscar 2020</h1>\n",
        "        <p>A maior premiação do cinema aconteceu em Fevereiro. Os destaques deste ano foram:</p>\n",
        "        <ul class=\"destaques\">\n",
        "            <li>Coringa</li>\n",
        "            <li>1917</li>\n",
        "            <li>Era Uma Vez em Hollywood</li>\n",
        "            <li>O Irlandês</li>\n",
        "        </ul>\n",
        "        <p>Veja abaixo os vencedores de 3 categorias.</p>\n",
        "        <div>\n",
        "            <div class=\"categoria-melhor-filme\">\n",
        "                <h2>Categoria: melhor filme</h2>\n",
        "                <ul>\n",
        "                    <li>Ford vs Ferrari</li>\n",
        "                    <li>O Irlandês</li>\n",
        "                    <li>JoJo Rabbit</li>\n",
        "                    <li>Coringa</li>\n",
        "                    <li>Adoráveis Mulheres</li>\n",
        "                    <li>História de um Casamento</li>\n",
        "                    <li>1917</li>\n",
        "                    <li>Era Uma Vez Em Hollywood</li>\n",
        "                    <li class=\"vencedor\">Parasita <strong>[VENCEDOR]</strong></li>\n",
        "                </ul>\n",
        "            </div>\n",
        "            <br>\n",
        "            <div class=\"categoria-melhor-ator\">\n",
        "                <h2>Categoria: melhor ator</h2>\n",
        "                <ul>\n",
        "                    <li>Antonio Banderas - Dor e Glória</li>\n",
        "                    <li>Leonardo DiCaprio - Era Uma Vez Em... Hollywood</li>\n",
        "                    <li>Adam Driver - História de um Casamento</li>\n",
        "                    <li class=\"vencedor\">Joaquin Phoenix - Coringa <strong>[VENCEDOR]</strong></li>\n",
        "                    <li>Jonathan Price - Dois Papas</li>\n",
        "                </ul>\n",
        "            </div>\n",
        "            <br>\n",
        "            <div class=\"categoria-melhor-atriz\">\n",
        "                <h2>Categoria: melhor atriz</h2>\n",
        "                <ul>\n",
        "                    <li>Cythia Erivo - Harriet</li>\n",
        "                    <li>Scarlett Johansson - História de um Casamento</li>\n",
        "                    <li>Saoirse Ronan - Adoráveis Mulheres</li>\n",
        "                    <li>Charlize Theron - O Escândalo</li>\n",
        "                    <li class=\"vencedor\">Renée Zellweger - Judy: Muito Além do Arco-Íris <strong>[VENCEDOR]</strong></li>\n",
        "                </ul>\n",
        "            </div>\n",
        "        </div>\n",
        "    </body>\n",
        "</html>"
      ]
    },
    {
      "cell_type": "code",
      "metadata": {
        "execution": {
          "iopub.execute_input": "2021-02-23T22:51:35.498204Z",
          "iopub.status.busy": "2021-02-23T22:51:35.497553Z",
          "iopub.status.idle": "2021-02-23T22:51:35.503049Z",
          "shell.execute_reply": "2021-02-23T22:51:35.503559Z"
        },
        "papermill": {
          "duration": 0.060821,
          "end_time": "2021-02-23T22:51:35.503734",
          "exception": false,
          "start_time": "2021-02-23T22:51:35.442913",
          "status": "completed"
        },
        "tags": [],
        "id": "NYgHNEXYhLBn"
      },
      "source": [
        "html = \"\"\"\n",
        "<html>\n",
        "    <head>\n",
        "        <title>Indicados e vencedores do Oscar em 2020</title>\n",
        "    </head>\n",
        "    <body>\n",
        "        <h1>Oscar 2020</h1>\n",
        "        <p>A maior premiação do cinema aconteceu em Fevereiro. Os destaques deste ano foram:</p>\n",
        "        <ul class=\"destaques\">\n",
        "            <li>Coringa</li>\n",
        "            <li>1917</li>\n",
        "            <li>Era Uma Vez em Hollywood</li>\n",
        "            <li>O Irlandês</li>\n",
        "        </ul>\n",
        "        <p>Veja abaixo os vencedores de 3 categorias.</p>\n",
        "        <div>\n",
        "            <div class=\"categoria-melhor-filme\">\n",
        "                <h2>Categoria: melhor filme</h2>\n",
        "                <ul>\n",
        "                    <li>Ford vs Ferrari</li>\n",
        "                    <li>O Irlandês</li>\n",
        "                    <li>JoJo Rabbit</li>\n",
        "                    <li>Coringa</li>\n",
        "                    <li>Adoráveis Mulheres</li>\n",
        "                    <li>História de um Casamento</li>\n",
        "                    <li>1917</li>\n",
        "                    <li>Era Uma Vez Em Hollywood</li>\n",
        "                    <li class=\"vencedor\">Parasita <strong>[VENCEDOR]</strong></li>\n",
        "                </ul>\n",
        "            </div>\n",
        "            <br>\n",
        "            <div class=\"categoria-melhor-ator\">\n",
        "                <h2>Categoria: melhor ator</h2>\n",
        "                <ul>\n",
        "                    <li>Antonio Banderas - Dor e Glória</li>\n",
        "                    <li>Leonardo DiCaprio - Era Uma Vez Em... Hollywood</li>\n",
        "                    <li>Adam Driver - História de um Casamento</li>\n",
        "                    <li class=\"vencedor\">Joaquin Phoenix - Coringa <strong>[VENCEDOR]</strong></li>\n",
        "                    <li>Jonathan Price - Dois Papas</li>\n",
        "                </ul>\n",
        "            </div>\n",
        "            <br>\n",
        "            <div class=\"categoria-melhor-atriz\">\n",
        "                <h2>Categoria: melhor atriz</h2>\n",
        "                <ul>\n",
        "                    <li>Cythia Erivo - Harriet</li>\n",
        "                    <li>Scarlett Johansson - História de um Casamento</li>\n",
        "                    <li>Saoirse Ronan - Adoráveis Mulheres</li>\n",
        "                    <li>Charlize Theron - O Escândalo</li>\n",
        "                    <li class=\"vencedor\">Renée Zellweger - Judy: Muito Além do Arco-Íris <strong>[VENCEDOR]</strong></li>\n",
        "                </ul>\n",
        "            </div>\n",
        "        </div>\n",
        "    </body>\n",
        "</html>\n",
        "\"\"\""
      ],
      "execution_count": null,
      "outputs": []
    },
    {
      "cell_type": "markdown",
      "metadata": {
        "papermill": {
          "duration": 0.052242,
          "end_time": "2021-02-23T22:51:35.608294",
          "exception": false,
          "start_time": "2021-02-23T22:51:35.556052",
          "status": "completed"
        },
        "tags": [],
        "id": "Et1WJLQWhLBv"
      },
      "source": [
        "## 2) Criando um objeto Beautiful Soup"
      ]
    },
    {
      "cell_type": "code",
      "metadata": {
        "_cell_guid": "79c7e3d0-c299-4dcb-8224-4455121ee9b0",
        "_uuid": "d629ff2d2480ee46fbb7e2d37f6b5fab8052498a",
        "execution": {
          "iopub.execute_input": "2021-02-23T22:51:35.717639Z",
          "iopub.status.busy": "2021-02-23T22:51:35.716983Z",
          "iopub.status.idle": "2021-02-23T22:51:35.985178Z",
          "shell.execute_reply": "2021-02-23T22:51:35.985695Z"
        },
        "papermill": {
          "duration": 0.324262,
          "end_time": "2021-02-23T22:51:35.985863",
          "exception": false,
          "start_time": "2021-02-23T22:51:35.661601",
          "status": "completed"
        },
        "tags": [],
        "id": "Q2TunOONhLBy"
      },
      "source": [
        "from bs4 import BeautifulSoup"
      ],
      "execution_count": null,
      "outputs": []
    },
    {
      "cell_type": "code",
      "metadata": {
        "execution": {
          "iopub.execute_input": "2021-02-23T22:51:36.098519Z",
          "iopub.status.busy": "2021-02-23T22:51:36.097879Z",
          "iopub.status.idle": "2021-02-23T22:51:36.101257Z",
          "shell.execute_reply": "2021-02-23T22:51:36.100740Z"
        },
        "papermill": {
          "duration": 0.062614,
          "end_time": "2021-02-23T22:51:36.101403",
          "exception": false,
          "start_time": "2021-02-23T22:51:36.038789",
          "status": "completed"
        },
        "tags": [],
        "id": "SsM526MMhLB2"
      },
      "source": [
        "soup = BeautifulSoup(html, 'html.parser')"
      ],
      "execution_count": null,
      "outputs": []
    },
    {
      "cell_type": "code",
      "metadata": {
        "execution": {
          "iopub.execute_input": "2021-02-23T22:51:36.213451Z",
          "iopub.status.busy": "2021-02-23T22:51:36.212464Z",
          "iopub.status.idle": "2021-02-23T22:51:36.216070Z",
          "shell.execute_reply": "2021-02-23T22:51:36.216568Z"
        },
        "papermill": {
          "duration": 0.06273,
          "end_time": "2021-02-23T22:51:36.216706",
          "exception": false,
          "start_time": "2021-02-23T22:51:36.153976",
          "status": "completed"
        },
        "tags": [],
        "id": "c_pqVtmMhLB4",
        "outputId": "49d91b89-c271-4777-ad44-993a04847178"
      },
      "source": [
        "type(soup)"
      ],
      "execution_count": null,
      "outputs": [
        {
          "output_type": "execute_result",
          "data": {
            "text/plain": [
              "bs4.BeautifulSoup"
            ]
          },
          "metadata": {
            "tags": []
          },
          "execution_count": 4
        }
      ]
    },
    {
      "cell_type": "code",
      "metadata": {
        "execution": {
          "iopub.execute_input": "2021-02-23T22:51:36.336955Z",
          "iopub.status.busy": "2021-02-23T22:51:36.331266Z",
          "iopub.status.idle": "2021-02-23T22:51:36.343993Z",
          "shell.execute_reply": "2021-02-23T22:51:36.343445Z"
        },
        "papermill": {
          "duration": 0.073853,
          "end_time": "2021-02-23T22:51:36.344111",
          "exception": false,
          "start_time": "2021-02-23T22:51:36.270258",
          "status": "completed"
        },
        "tags": [],
        "id": "0aPMtIFUhLB_",
        "outputId": "874a40e4-2da9-4557-ca7b-3636f44b1031"
      },
      "source": [
        "soup"
      ],
      "execution_count": null,
      "outputs": [
        {
          "output_type": "execute_result",
          "data": {
            "text/plain": [
              "\n",
              "<html>\n",
              "<head>\n",
              "<title>Indicados e vencedores do Oscar em 2020</title>\n",
              "</head>\n",
              "<body>\n",
              "<h1>Oscar 2020</h1>\n",
              "<p>A maior premiação do cinema aconteceu em Fevereiro. Os destaques deste ano foram:</p>\n",
              "<ul class=\"destaques\">\n",
              "<li>Coringa</li>\n",
              "<li>1917</li>\n",
              "<li>Era Uma Vez em Hollywood</li>\n",
              "<li>O Irlandês</li>\n",
              "</ul>\n",
              "<p>Veja abaixo os vencedores de 3 categorias.</p>\n",
              "<div>\n",
              "<div class=\"categoria-melhor-filme\">\n",
              "<h2>Categoria: melhor filme</h2>\n",
              "<ul>\n",
              "<li>Ford vs Ferrari</li>\n",
              "<li>O Irlandês</li>\n",
              "<li>JoJo Rabbit</li>\n",
              "<li>Coringa</li>\n",
              "<li>Adoráveis Mulheres</li>\n",
              "<li>História de um Casamento</li>\n",
              "<li>1917</li>\n",
              "<li>Era Uma Vez Em Hollywood</li>\n",
              "<li class=\"vencedor\">Parasita <strong>[VENCEDOR]</strong></li>\n",
              "</ul>\n",
              "</div>\n",
              "<br/>\n",
              "<div class=\"categoria-melhor-ator\">\n",
              "<h2>Categoria: melhor ator</h2>\n",
              "<ul>\n",
              "<li>Antonio Banderas - Dor e Glória</li>\n",
              "<li>Leonardo DiCaprio - Era Uma Vez Em... Hollywood</li>\n",
              "<li>Adam Driver - História de um Casamento</li>\n",
              "<li class=\"vencedor\">Joaquin Phoenix - Coringa <strong>[VENCEDOR]</strong></li>\n",
              "<li>Jonathan Price - Dois Papas</li>\n",
              "</ul>\n",
              "</div>\n",
              "<br/>\n",
              "<div class=\"categoria-melhor-atriz\">\n",
              "<h2>Categoria: melhor atriz</h2>\n",
              "<ul>\n",
              "<li>Cythia Erivo - Harriet</li>\n",
              "<li>Scarlett Johansson - História de um Casamento</li>\n",
              "<li>Saoirse Ronan - Adoráveis Mulheres</li>\n",
              "<li>Charlize Theron - O Escândalo</li>\n",
              "<li class=\"vencedor\">Renée Zellweger - Judy: Muito Além do Arco-Íris <strong>[VENCEDOR]</strong></li>\n",
              "</ul>\n",
              "</div>\n",
              "</div>\n",
              "</body>\n",
              "</html>"
            ]
          },
          "metadata": {
            "tags": []
          },
          "execution_count": 5
        }
      ]
    },
    {
      "cell_type": "code",
      "metadata": {
        "execution": {
          "iopub.execute_input": "2021-02-23T22:51:36.458113Z",
          "iopub.status.busy": "2021-02-23T22:51:36.457446Z",
          "iopub.status.idle": "2021-02-23T22:51:36.463217Z",
          "shell.execute_reply": "2021-02-23T22:51:36.462694Z"
        },
        "papermill": {
          "duration": 0.064794,
          "end_time": "2021-02-23T22:51:36.463359",
          "exception": false,
          "start_time": "2021-02-23T22:51:36.398565",
          "status": "completed"
        },
        "tags": [],
        "id": "EM0c-yRnhLCC",
        "outputId": "d5ab5fcb-b3dc-48fd-acb7-3c42ae61f974"
      },
      "source": [
        "print(soup.prettify())"
      ],
      "execution_count": null,
      "outputs": [
        {
          "output_type": "stream",
          "text": [
            "<html>\n",
            " <head>\n",
            "  <title>\n",
            "   Indicados e vencedores do Oscar em 2020\n",
            "  </title>\n",
            " </head>\n",
            " <body>\n",
            "  <h1>\n",
            "   Oscar 2020\n",
            "  </h1>\n",
            "  <p>\n",
            "   A maior premiação do cinema aconteceu em Fevereiro. Os destaques deste ano foram:\n",
            "  </p>\n",
            "  <ul class=\"destaques\">\n",
            "   <li>\n",
            "    Coringa\n",
            "   </li>\n",
            "   <li>\n",
            "    1917\n",
            "   </li>\n",
            "   <li>\n",
            "    Era Uma Vez em Hollywood\n",
            "   </li>\n",
            "   <li>\n",
            "    O Irlandês\n",
            "   </li>\n",
            "  </ul>\n",
            "  <p>\n",
            "   Veja abaixo os vencedores de 3 categorias.\n",
            "  </p>\n",
            "  <div>\n",
            "   <div class=\"categoria-melhor-filme\">\n",
            "    <h2>\n",
            "     Categoria: melhor filme\n",
            "    </h2>\n",
            "    <ul>\n",
            "     <li>\n",
            "      Ford vs Ferrari\n",
            "     </li>\n",
            "     <li>\n",
            "      O Irlandês\n",
            "     </li>\n",
            "     <li>\n",
            "      JoJo Rabbit\n",
            "     </li>\n",
            "     <li>\n",
            "      Coringa\n",
            "     </li>\n",
            "     <li>\n",
            "      Adoráveis Mulheres\n",
            "     </li>\n",
            "     <li>\n",
            "      História de um Casamento\n",
            "     </li>\n",
            "     <li>\n",
            "      1917\n",
            "     </li>\n",
            "     <li>\n",
            "      Era Uma Vez Em Hollywood\n",
            "     </li>\n",
            "     <li class=\"vencedor\">\n",
            "      Parasita\n",
            "      <strong>\n",
            "       [VENCEDOR]\n",
            "      </strong>\n",
            "     </li>\n",
            "    </ul>\n",
            "   </div>\n",
            "   <br/>\n",
            "   <div class=\"categoria-melhor-ator\">\n",
            "    <h2>\n",
            "     Categoria: melhor ator\n",
            "    </h2>\n",
            "    <ul>\n",
            "     <li>\n",
            "      Antonio Banderas - Dor e Glória\n",
            "     </li>\n",
            "     <li>\n",
            "      Leonardo DiCaprio - Era Uma Vez Em... Hollywood\n",
            "     </li>\n",
            "     <li>\n",
            "      Adam Driver - História de um Casamento\n",
            "     </li>\n",
            "     <li class=\"vencedor\">\n",
            "      Joaquin Phoenix - Coringa\n",
            "      <strong>\n",
            "       [VENCEDOR]\n",
            "      </strong>\n",
            "     </li>\n",
            "     <li>\n",
            "      Jonathan Price - Dois Papas\n",
            "     </li>\n",
            "    </ul>\n",
            "   </div>\n",
            "   <br/>\n",
            "   <div class=\"categoria-melhor-atriz\">\n",
            "    <h2>\n",
            "     Categoria: melhor atriz\n",
            "    </h2>\n",
            "    <ul>\n",
            "     <li>\n",
            "      Cythia Erivo - Harriet\n",
            "     </li>\n",
            "     <li>\n",
            "      Scarlett Johansson - História de um Casamento\n",
            "     </li>\n",
            "     <li>\n",
            "      Saoirse Ronan - Adoráveis Mulheres\n",
            "     </li>\n",
            "     <li>\n",
            "      Charlize Theron - O Escândalo\n",
            "     </li>\n",
            "     <li class=\"vencedor\">\n",
            "      Renée Zellweger - Judy: Muito Além do Arco-Íris\n",
            "      <strong>\n",
            "       [VENCEDOR]\n",
            "      </strong>\n",
            "     </li>\n",
            "    </ul>\n",
            "   </div>\n",
            "  </div>\n",
            " </body>\n",
            "</html>\n",
            "\n"
          ],
          "name": "stdout"
        }
      ]
    },
    {
      "cell_type": "markdown",
      "metadata": {
        "papermill": {
          "duration": 0.054417,
          "end_time": "2021-02-23T22:51:36.573098",
          "exception": false,
          "start_time": "2021-02-23T22:51:36.518681",
          "status": "completed"
        },
        "tags": [],
        "id": "vzijYQBghLCE"
      },
      "source": [
        "## 3) Aprendendo a extrair dados de tags no HTML"
      ]
    },
    {
      "cell_type": "markdown",
      "metadata": {
        "papermill": {
          "duration": 0.055694,
          "end_time": "2021-02-23T22:51:36.683570",
          "exception": false,
          "start_time": "2021-02-23T22:51:36.627876",
          "status": "completed"
        },
        "tags": [],
        "id": "OMXa0ZvPhLCK"
      },
      "source": [
        "### 3.1) Começando pelo começo: como extrair o título da página?"
      ]
    },
    {
      "cell_type": "code",
      "metadata": {
        "execution": {
          "iopub.execute_input": "2021-02-23T22:51:36.799345Z",
          "iopub.status.busy": "2021-02-23T22:51:36.798188Z",
          "iopub.status.idle": "2021-02-23T22:51:36.801597Z",
          "shell.execute_reply": "2021-02-23T22:51:36.802106Z"
        },
        "papermill": {
          "duration": 0.06397,
          "end_time": "2021-02-23T22:51:36.802252",
          "exception": false,
          "start_time": "2021-02-23T22:51:36.738282",
          "status": "completed"
        },
        "tags": [],
        "id": "eoog0J8shLCL",
        "outputId": "f32d5c9e-64da-4983-eefd-d581740b34ee"
      },
      "source": [
        "soup.html.head.title"
      ],
      "execution_count": null,
      "outputs": [
        {
          "output_type": "execute_result",
          "data": {
            "text/plain": [
              "<title>Indicados e vencedores do Oscar em 2020</title>"
            ]
          },
          "metadata": {
            "tags": []
          },
          "execution_count": 7
        }
      ]
    },
    {
      "cell_type": "code",
      "metadata": {
        "execution": {
          "iopub.execute_input": "2021-02-23T22:51:36.920736Z",
          "iopub.status.busy": "2021-02-23T22:51:36.919711Z",
          "iopub.status.idle": "2021-02-23T22:51:36.923425Z",
          "shell.execute_reply": "2021-02-23T22:51:36.923930Z"
        },
        "papermill": {
          "duration": 0.066151,
          "end_time": "2021-02-23T22:51:36.924065",
          "exception": false,
          "start_time": "2021-02-23T22:51:36.857914",
          "status": "completed"
        },
        "tags": [],
        "id": "j-OehY-1hLCO",
        "outputId": "867e0d04-e53b-4b17-b968-8ffd92cf525c"
      },
      "source": [
        "soup.title"
      ],
      "execution_count": null,
      "outputs": [
        {
          "output_type": "execute_result",
          "data": {
            "text/plain": [
              "<title>Indicados e vencedores do Oscar em 2020</title>"
            ]
          },
          "metadata": {
            "tags": []
          },
          "execution_count": 8
        }
      ]
    },
    {
      "cell_type": "code",
      "metadata": {
        "execution": {
          "iopub.execute_input": "2021-02-23T22:51:37.039975Z",
          "iopub.status.busy": "2021-02-23T22:51:37.039053Z",
          "iopub.status.idle": "2021-02-23T22:51:37.043476Z",
          "shell.execute_reply": "2021-02-23T22:51:37.042904Z"
        },
        "papermill": {
          "duration": 0.064413,
          "end_time": "2021-02-23T22:51:37.043587",
          "exception": false,
          "start_time": "2021-02-23T22:51:36.979174",
          "status": "completed"
        },
        "tags": [],
        "id": "1NAUV94chLCQ",
        "outputId": "4fd12ef2-88fb-443f-8642-e377aac6b441"
      },
      "source": [
        "soup.title.get_text()"
      ],
      "execution_count": null,
      "outputs": [
        {
          "output_type": "execute_result",
          "data": {
            "text/plain": [
              "'Indicados e vencedores do Oscar em 2020'"
            ]
          },
          "metadata": {
            "tags": []
          },
          "execution_count": 9
        }
      ]
    },
    {
      "cell_type": "markdown",
      "metadata": {
        "papermill": {
          "duration": 0.055611,
          "end_time": "2021-02-23T22:51:37.155531",
          "exception": false,
          "start_time": "2021-02-23T22:51:37.099920",
          "status": "completed"
        },
        "tags": [],
        "id": "0_pD7ZaEhLCS"
      },
      "source": [
        "### 3.2) E se eu quiser extrair o título do maior hierarquia no corpo da página?"
      ]
    },
    {
      "cell_type": "code",
      "metadata": {
        "execution": {
          "iopub.execute_input": "2021-02-23T22:51:37.273062Z",
          "iopub.status.busy": "2021-02-23T22:51:37.272425Z",
          "iopub.status.idle": "2021-02-23T22:51:37.275387Z",
          "shell.execute_reply": "2021-02-23T22:51:37.275918Z"
        },
        "papermill": {
          "duration": 0.064108,
          "end_time": "2021-02-23T22:51:37.276051",
          "exception": false,
          "start_time": "2021-02-23T22:51:37.211943",
          "status": "completed"
        },
        "tags": [],
        "id": "ritcu7gQhLCT",
        "outputId": "c3051d78-9098-4d27-8472-a97bf53246b7"
      },
      "source": [
        "soup.html.body.h1"
      ],
      "execution_count": null,
      "outputs": [
        {
          "output_type": "execute_result",
          "data": {
            "text/plain": [
              "<h1>Oscar 2020</h1>"
            ]
          },
          "metadata": {
            "tags": []
          },
          "execution_count": 10
        }
      ]
    },
    {
      "cell_type": "code",
      "metadata": {
        "execution": {
          "iopub.execute_input": "2021-02-23T22:51:37.391681Z",
          "iopub.status.busy": "2021-02-23T22:51:37.391026Z",
          "iopub.status.idle": "2021-02-23T22:51:37.396644Z",
          "shell.execute_reply": "2021-02-23T22:51:37.397132Z"
        },
        "papermill": {
          "duration": 0.064971,
          "end_time": "2021-02-23T22:51:37.397275",
          "exception": false,
          "start_time": "2021-02-23T22:51:37.332304",
          "status": "completed"
        },
        "tags": [],
        "id": "UqGGyZVwhLCV",
        "outputId": "a2977515-e68e-4f53-c255-29902458fab3"
      },
      "source": [
        "soup.h1"
      ],
      "execution_count": null,
      "outputs": [
        {
          "output_type": "execute_result",
          "data": {
            "text/plain": [
              "<h1>Oscar 2020</h1>"
            ]
          },
          "metadata": {
            "tags": []
          },
          "execution_count": 11
        }
      ]
    },
    {
      "cell_type": "code",
      "metadata": {
        "execution": {
          "iopub.execute_input": "2021-02-23T22:51:37.514340Z",
          "iopub.status.busy": "2021-02-23T22:51:37.513719Z",
          "iopub.status.idle": "2021-02-23T22:51:37.518597Z",
          "shell.execute_reply": "2021-02-23T22:51:37.519190Z"
        },
        "papermill": {
          "duration": 0.065313,
          "end_time": "2021-02-23T22:51:37.519358",
          "exception": false,
          "start_time": "2021-02-23T22:51:37.454045",
          "status": "completed"
        },
        "tags": [],
        "id": "uSHkXFl4hLCX",
        "outputId": "acc9c45e-9955-443d-b040-410ee9b11ddc"
      },
      "source": [
        "soup.h1.get_text()"
      ],
      "execution_count": null,
      "outputs": [
        {
          "output_type": "execute_result",
          "data": {
            "text/plain": [
              "'Oscar 2020'"
            ]
          },
          "metadata": {
            "tags": []
          },
          "execution_count": 12
        }
      ]
    },
    {
      "cell_type": "markdown",
      "metadata": {
        "papermill": {
          "duration": 0.058222,
          "end_time": "2021-02-23T22:51:37.634873",
          "exception": false,
          "start_time": "2021-02-23T22:51:37.576651",
          "status": "completed"
        },
        "tags": [],
        "id": "75JcVlrIhLCY"
      },
      "source": [
        "### Questionário 1: com qual dos comandos abaixo eu NÃO coleto o texto \"Categoria: melhor filme\"?\n",
        "\n",
        "a) soup.body.div.div.h2.get_text()\n",
        "\n",
        "b) soup.div.div.h2.get_text()\n",
        "\n",
        "c) soup.div.ul.h2.get_text()\n",
        "\n",
        "d) soup.h2.get_text()"
      ]
    },
    {
      "cell_type": "markdown",
      "metadata": {
        "papermill": {
          "duration": 0.05735,
          "end_time": "2021-02-23T22:51:37.750962",
          "exception": false,
          "start_time": "2021-02-23T22:51:37.693612",
          "status": "completed"
        },
        "tags": [],
        "id": "Fi_FyghlhLCZ"
      },
      "source": [
        "### 3.3) Coletando o texto \"A maior premiação do cinema aconteceu em Fevereiro. Os destaques deste ano foram:\""
      ]
    },
    {
      "cell_type": "code",
      "metadata": {
        "execution": {
          "iopub.execute_input": "2021-02-23T22:51:37.871226Z",
          "iopub.status.busy": "2021-02-23T22:51:37.870616Z",
          "iopub.status.idle": "2021-02-23T22:51:37.875701Z",
          "shell.execute_reply": "2021-02-23T22:51:37.876199Z"
        },
        "papermill": {
          "duration": 0.066318,
          "end_time": "2021-02-23T22:51:37.876353",
          "exception": false,
          "start_time": "2021-02-23T22:51:37.810035",
          "status": "completed"
        },
        "tags": [],
        "id": "V3NLRlrUhLCa",
        "outputId": "f80959ac-be72-4505-beb7-ac505054914a"
      },
      "source": [
        "soup.p.get_text()"
      ],
      "execution_count": null,
      "outputs": [
        {
          "output_type": "execute_result",
          "data": {
            "text/plain": [
              "'A maior premiação do cinema aconteceu em Fevereiro. Os destaques deste ano foram:'"
            ]
          },
          "metadata": {
            "tags": []
          },
          "execution_count": 13
        }
      ]
    },
    {
      "cell_type": "markdown",
      "metadata": {
        "papermill": {
          "duration": 0.058056,
          "end_time": "2021-02-23T22:51:37.992215",
          "exception": false,
          "start_time": "2021-02-23T22:51:37.934159",
          "status": "completed"
        },
        "tags": [],
        "id": "IYoHcXODhLCb"
      },
      "source": [
        "### Mas... E se eu quiser coletar o texto \"Veja abaixo os vencedores de 3 categorias.\"?"
      ]
    },
    {
      "cell_type": "markdown",
      "metadata": {
        "papermill": {
          "duration": 0.058524,
          "end_time": "2021-02-23T22:51:38.108941",
          "exception": false,
          "start_time": "2021-02-23T22:51:38.050417",
          "status": "completed"
        },
        "tags": [],
        "id": "Q7YuhQ8ahLCd"
      },
      "source": [
        "### 3.4) O método find()"
      ]
    },
    {
      "cell_type": "code",
      "metadata": {
        "execution": {
          "iopub.execute_input": "2021-02-23T22:51:38.228266Z",
          "iopub.status.busy": "2021-02-23T22:51:38.227244Z",
          "iopub.status.idle": "2021-02-23T22:51:38.234446Z",
          "shell.execute_reply": "2021-02-23T22:51:38.233899Z"
        },
        "papermill": {
          "duration": 0.067694,
          "end_time": "2021-02-23T22:51:38.234564",
          "exception": false,
          "start_time": "2021-02-23T22:51:38.166870",
          "status": "completed"
        },
        "tags": [],
        "id": "zt3rsi8ohLCf",
        "outputId": "8dd7a971-9417-40e8-f9c1-b1b5f1552d1d"
      },
      "source": [
        "soup.find(\"p\")"
      ],
      "execution_count": null,
      "outputs": [
        {
          "output_type": "execute_result",
          "data": {
            "text/plain": [
              "<p>A maior premiação do cinema aconteceu em Fevereiro. Os destaques deste ano foram:</p>"
            ]
          },
          "metadata": {
            "tags": []
          },
          "execution_count": 14
        }
      ]
    },
    {
      "cell_type": "code",
      "metadata": {
        "execution": {
          "iopub.execute_input": "2021-02-23T22:51:38.356490Z",
          "iopub.status.busy": "2021-02-23T22:51:38.355812Z",
          "iopub.status.idle": "2021-02-23T22:51:38.358430Z",
          "shell.execute_reply": "2021-02-23T22:51:38.358889Z"
        },
        "papermill": {
          "duration": 0.0661,
          "end_time": "2021-02-23T22:51:38.359032",
          "exception": false,
          "start_time": "2021-02-23T22:51:38.292932",
          "status": "completed"
        },
        "tags": [],
        "id": "CNf3tA73hLCl",
        "outputId": "eddb75f4-978f-41a5-90c2-19fc4e260f36"
      },
      "source": [
        "soup.find(\"p\").get_text()"
      ],
      "execution_count": null,
      "outputs": [
        {
          "output_type": "execute_result",
          "data": {
            "text/plain": [
              "'A maior premiação do cinema aconteceu em Fevereiro. Os destaques deste ano foram:'"
            ]
          },
          "metadata": {
            "tags": []
          },
          "execution_count": 15
        }
      ]
    },
    {
      "cell_type": "markdown",
      "metadata": {
        "papermill": {
          "duration": 0.058232,
          "end_time": "2021-02-23T22:51:38.475912",
          "exception": false,
          "start_time": "2021-02-23T22:51:38.417680",
          "status": "completed"
        },
        "tags": [],
        "id": "3nDRnESShLCm"
      },
      "source": [
        "### 3.5) O método find_all()"
      ]
    },
    {
      "cell_type": "code",
      "metadata": {
        "execution": {
          "iopub.execute_input": "2021-02-23T22:51:38.596097Z",
          "iopub.status.busy": "2021-02-23T22:51:38.595465Z",
          "iopub.status.idle": "2021-02-23T22:51:38.600235Z",
          "shell.execute_reply": "2021-02-23T22:51:38.600798Z"
        },
        "papermill": {
          "duration": 0.066538,
          "end_time": "2021-02-23T22:51:38.600933",
          "exception": false,
          "start_time": "2021-02-23T22:51:38.534395",
          "status": "completed"
        },
        "tags": [],
        "id": "4bMGYsTWhLCn",
        "outputId": "b218678f-045b-4775-abe9-c83698dde95c"
      },
      "source": [
        "soup.find_all(\"p\")"
      ],
      "execution_count": null,
      "outputs": [
        {
          "output_type": "execute_result",
          "data": {
            "text/plain": [
              "[<p>A maior premiação do cinema aconteceu em Fevereiro. Os destaques deste ano foram:</p>,\n",
              " <p>Veja abaixo os vencedores de 3 categorias.</p>]"
            ]
          },
          "metadata": {
            "tags": []
          },
          "execution_count": 16
        }
      ]
    },
    {
      "cell_type": "code",
      "metadata": {
        "execution": {
          "iopub.execute_input": "2021-02-23T22:51:38.732070Z",
          "iopub.status.busy": "2021-02-23T22:51:38.731279Z",
          "iopub.status.idle": "2021-02-23T22:51:38.734859Z",
          "shell.execute_reply": "2021-02-23T22:51:38.735355Z"
        },
        "papermill": {
          "duration": 0.075619,
          "end_time": "2021-02-23T22:51:38.735504",
          "exception": false,
          "start_time": "2021-02-23T22:51:38.659885",
          "status": "completed"
        },
        "tags": [],
        "id": "4puQnarIhLCq",
        "outputId": "b04cba32-ea42-4765-b068-63c7da08c6a4"
      },
      "source": [
        "soup.find_all(\"p\")[1]"
      ],
      "execution_count": null,
      "outputs": [
        {
          "output_type": "execute_result",
          "data": {
            "text/plain": [
              "<p>Veja abaixo os vencedores de 3 categorias.</p>"
            ]
          },
          "metadata": {
            "tags": []
          },
          "execution_count": 17
        }
      ]
    },
    {
      "cell_type": "code",
      "metadata": {
        "execution": {
          "iopub.execute_input": "2021-02-23T22:51:38.861429Z",
          "iopub.status.busy": "2021-02-23T22:51:38.860641Z",
          "iopub.status.idle": "2021-02-23T22:51:38.863992Z",
          "shell.execute_reply": "2021-02-23T22:51:38.864475Z"
        },
        "papermill": {
          "duration": 0.069412,
          "end_time": "2021-02-23T22:51:38.864614",
          "exception": false,
          "start_time": "2021-02-23T22:51:38.795202",
          "status": "completed"
        },
        "tags": [],
        "id": "MOg73MZAhLCr",
        "outputId": "2ce981f2-a316-4f30-afab-8d8171fd8ff7"
      },
      "source": [
        "soup.find_all(\"p\")[1].get_text()"
      ],
      "execution_count": null,
      "outputs": [
        {
          "output_type": "execute_result",
          "data": {
            "text/plain": [
              "'Veja abaixo os vencedores de 3 categorias.'"
            ]
          },
          "metadata": {
            "tags": []
          },
          "execution_count": 18
        }
      ]
    },
    {
      "cell_type": "code",
      "metadata": {
        "execution": {
          "iopub.execute_input": "2021-02-23T22:51:38.991845Z",
          "iopub.status.busy": "2021-02-23T22:51:38.990932Z",
          "iopub.status.idle": "2021-02-23T22:51:38.995360Z",
          "shell.execute_reply": "2021-02-23T22:51:38.994712Z"
        },
        "papermill": {
          "duration": 0.070078,
          "end_time": "2021-02-23T22:51:38.995470",
          "exception": false,
          "start_time": "2021-02-23T22:51:38.925392",
          "status": "completed"
        },
        "tags": [],
        "id": "J0eSjsAZhLCu",
        "outputId": "9968f795-20d1-4fd0-d5b2-92344fa6fcd5"
      },
      "source": [
        "soup.find_all(\"h2\")"
      ],
      "execution_count": null,
      "outputs": [
        {
          "output_type": "execute_result",
          "data": {
            "text/plain": [
              "[<h2>Categoria: melhor filme</h2>,\n",
              " <h2>Categoria: melhor ator</h2>,\n",
              " <h2>Categoria: melhor atriz</h2>]"
            ]
          },
          "metadata": {
            "tags": []
          },
          "execution_count": 19
        }
      ]
    },
    {
      "cell_type": "markdown",
      "metadata": {
        "papermill": {
          "duration": 0.060408,
          "end_time": "2021-02-23T22:51:39.117376",
          "exception": false,
          "start_time": "2021-02-23T22:51:39.056968",
          "status": "completed"
        },
        "tags": [],
        "id": "kgUR-WVMhLCv"
      },
      "source": [
        "### 3.6) Coletando a lista de destaques"
      ]
    },
    {
      "cell_type": "code",
      "metadata": {
        "execution": {
          "iopub.execute_input": "2021-02-23T22:51:39.244291Z",
          "iopub.status.busy": "2021-02-23T22:51:39.243543Z",
          "iopub.status.idle": "2021-02-23T22:51:39.247686Z",
          "shell.execute_reply": "2021-02-23T22:51:39.247116Z"
        },
        "papermill": {
          "duration": 0.069928,
          "end_time": "2021-02-23T22:51:39.247798",
          "exception": false,
          "start_time": "2021-02-23T22:51:39.177870",
          "status": "completed"
        },
        "tags": [],
        "id": "K_sDkIPBhLCx",
        "outputId": "b837fb7b-4d07-41f7-dc51-b1a8415622d9"
      },
      "source": [
        "soup.ul.find_all(\"li\")"
      ],
      "execution_count": null,
      "outputs": [
        {
          "output_type": "execute_result",
          "data": {
            "text/plain": [
              "[<li>Coringa</li>,\n",
              " <li>1917</li>,\n",
              " <li>Era Uma Vez em Hollywood</li>,\n",
              " <li>O Irlandês</li>]"
            ]
          },
          "metadata": {
            "tags": []
          },
          "execution_count": 20
        }
      ]
    },
    {
      "cell_type": "code",
      "metadata": {
        "execution": {
          "iopub.execute_input": "2021-02-23T22:51:39.376217Z",
          "iopub.status.busy": "2021-02-23T22:51:39.375240Z",
          "iopub.status.idle": "2021-02-23T22:51:39.379212Z",
          "shell.execute_reply": "2021-02-23T22:51:39.378689Z"
        },
        "papermill": {
          "duration": 0.070685,
          "end_time": "2021-02-23T22:51:39.379347",
          "exception": false,
          "start_time": "2021-02-23T22:51:39.308662",
          "status": "completed"
        },
        "tags": [],
        "id": "kBjUNtP4hLCy",
        "outputId": "c9690e40-01df-4bc4-a032-16b4809dca88"
      },
      "source": [
        "print(\"Lista de destaques:\")\n",
        "\n",
        "for filme in soup.ul.find_all(\"li\"):\n",
        "    print(filme.get_text())"
      ],
      "execution_count": null,
      "outputs": [
        {
          "output_type": "stream",
          "text": [
            "Lista de destaques:\n",
            "Coringa\n",
            "1917\n",
            "Era Uma Vez em Hollywood\n",
            "O Irlandês\n"
          ],
          "name": "stdout"
        }
      ]
    },
    {
      "cell_type": "markdown",
      "metadata": {
        "papermill": {
          "duration": 0.061133,
          "end_time": "2021-02-23T22:51:39.501919",
          "exception": false,
          "start_time": "2021-02-23T22:51:39.440786",
          "status": "completed"
        },
        "tags": [],
        "id": "qo4Ll1EJhLCz"
      },
      "source": [
        "### Mini-desafio 1: colete todos os filmes da categoria de melhor filme"
      ]
    },
    {
      "cell_type": "code",
      "metadata": {
        "execution": {
          "iopub.execute_input": "2021-02-23T22:51:39.629203Z",
          "iopub.status.busy": "2021-02-23T22:51:39.628566Z",
          "iopub.status.idle": "2021-02-23T22:51:39.630522Z",
          "shell.execute_reply": "2021-02-23T22:51:39.631020Z"
        },
        "papermill": {
          "duration": 0.06798,
          "end_time": "2021-02-23T22:51:39.631153",
          "exception": false,
          "start_time": "2021-02-23T22:51:39.563173",
          "status": "completed"
        },
        "tags": [],
        "id": "cEQoWtlDhLC0"
      },
      "source": [
        "# Insira a sua resposta aqui"
      ],
      "execution_count": null,
      "outputs": []
    },
    {
      "cell_type": "markdown",
      "metadata": {
        "papermill": {
          "duration": 0.062816,
          "end_time": "2021-02-23T22:51:39.804552",
          "exception": false,
          "start_time": "2021-02-23T22:51:39.741736",
          "status": "completed"
        },
        "tags": [],
        "id": "E0a9tv8vhLC1"
      },
      "source": [
        "### 3.7) O método find_all() pode ser equivalente ao método find()"
      ]
    },
    {
      "cell_type": "code",
      "metadata": {
        "execution": {
          "iopub.execute_input": "2021-02-23T22:51:39.932370Z",
          "iopub.status.busy": "2021-02-23T22:51:39.931542Z",
          "iopub.status.idle": "2021-02-23T22:51:39.937423Z",
          "shell.execute_reply": "2021-02-23T22:51:39.936784Z"
        },
        "papermill": {
          "duration": 0.070496,
          "end_time": "2021-02-23T22:51:39.937532",
          "exception": false,
          "start_time": "2021-02-23T22:51:39.867036",
          "status": "completed"
        },
        "tags": [],
        "id": "foEboeKZhLC1",
        "outputId": "b4a165b3-4d38-46c8-c276-6e69a0c91527"
      },
      "source": [
        "soup.find_all('p', limit = 1)"
      ],
      "execution_count": null,
      "outputs": [
        {
          "output_type": "execute_result",
          "data": {
            "text/plain": [
              "[<p>A maior premiação do cinema aconteceu em Fevereiro. Os destaques deste ano foram:</p>]"
            ]
          },
          "metadata": {
            "tags": []
          },
          "execution_count": 23
        }
      ]
    },
    {
      "cell_type": "code",
      "metadata": {
        "execution": {
          "iopub.execute_input": "2021-02-23T22:51:40.065112Z",
          "iopub.status.busy": "2021-02-23T22:51:40.064515Z",
          "iopub.status.idle": "2021-02-23T22:51:40.070266Z",
          "shell.execute_reply": "2021-02-23T22:51:40.070911Z"
        },
        "papermill": {
          "duration": 0.071115,
          "end_time": "2021-02-23T22:51:40.071045",
          "exception": false,
          "start_time": "2021-02-23T22:51:39.999930",
          "status": "completed"
        },
        "tags": [],
        "id": "j2cgP5OyhLC2",
        "outputId": "a114f554-2e0d-41b3-c291-3d917da8f59a"
      },
      "source": [
        "soup.find_all('p')[0]"
      ],
      "execution_count": null,
      "outputs": [
        {
          "output_type": "execute_result",
          "data": {
            "text/plain": [
              "<p>A maior premiação do cinema aconteceu em Fevereiro. Os destaques deste ano foram:</p>"
            ]
          },
          "metadata": {
            "tags": []
          },
          "execution_count": 24
        }
      ]
    },
    {
      "cell_type": "markdown",
      "metadata": {
        "papermill": {
          "duration": 0.062326,
          "end_time": "2021-02-23T22:51:40.195803",
          "exception": false,
          "start_time": "2021-02-23T22:51:40.133477",
          "status": "completed"
        },
        "tags": [],
        "id": "Nil97qdXhLC4"
      },
      "source": [
        "### 3.8) Também posso passar uma lista de tags para o find_all()"
      ]
    },
    {
      "cell_type": "code",
      "metadata": {
        "execution": {
          "iopub.execute_input": "2021-02-23T22:51:40.324102Z",
          "iopub.status.busy": "2021-02-23T22:51:40.323511Z",
          "iopub.status.idle": "2021-02-23T22:51:40.331288Z",
          "shell.execute_reply": "2021-02-23T22:51:40.330724Z"
        },
        "papermill": {
          "duration": 0.073075,
          "end_time": "2021-02-23T22:51:40.331413",
          "exception": false,
          "start_time": "2021-02-23T22:51:40.258338",
          "status": "completed"
        },
        "tags": [],
        "id": "GLObEMFThLC4",
        "outputId": "588782d3-f595-49b2-b009-55b15d960311"
      },
      "source": [
        "soup.find_all([\"h2\", \"li\"])"
      ],
      "execution_count": null,
      "outputs": [
        {
          "output_type": "execute_result",
          "data": {
            "text/plain": [
              "[<li>Coringa</li>,\n",
              " <li>1917</li>,\n",
              " <li>Era Uma Vez em Hollywood</li>,\n",
              " <li>O Irlandês</li>,\n",
              " <h2>Categoria: melhor filme</h2>,\n",
              " <li>Ford vs Ferrari</li>,\n",
              " <li>O Irlandês</li>,\n",
              " <li>JoJo Rabbit</li>,\n",
              " <li>Coringa</li>,\n",
              " <li>Adoráveis Mulheres</li>,\n",
              " <li>História de um Casamento</li>,\n",
              " <li>1917</li>,\n",
              " <li>Era Uma Vez Em Hollywood</li>,\n",
              " <li class=\"vencedor\">Parasita <strong>[VENCEDOR]</strong></li>,\n",
              " <h2>Categoria: melhor ator</h2>,\n",
              " <li>Antonio Banderas - Dor e Glória</li>,\n",
              " <li>Leonardo DiCaprio - Era Uma Vez Em... Hollywood</li>,\n",
              " <li>Adam Driver - História de um Casamento</li>,\n",
              " <li class=\"vencedor\">Joaquin Phoenix - Coringa <strong>[VENCEDOR]</strong></li>,\n",
              " <li>Jonathan Price - Dois Papas</li>,\n",
              " <h2>Categoria: melhor atriz</h2>,\n",
              " <li>Cythia Erivo - Harriet</li>,\n",
              " <li>Scarlett Johansson - História de um Casamento</li>,\n",
              " <li>Saoirse Ronan - Adoráveis Mulheres</li>,\n",
              " <li>Charlize Theron - O Escândalo</li>,\n",
              " <li class=\"vencedor\">Renée Zellweger - Judy: Muito Além do Arco-Íris <strong>[VENCEDOR]</strong></li>]"
            ]
          },
          "metadata": {
            "tags": []
          },
          "execution_count": 25
        }
      ]
    },
    {
      "cell_type": "markdown",
      "metadata": {
        "papermill": {
          "duration": 0.064818,
          "end_time": "2021-02-23T22:51:40.459695",
          "exception": false,
          "start_time": "2021-02-23T22:51:40.394877",
          "status": "completed"
        },
        "tags": [],
        "id": "NDT5zKQphLC5"
      },
      "source": [
        "### 3.9) Posso buscar por tags com um conteúdo específico?"
      ]
    },
    {
      "cell_type": "code",
      "metadata": {
        "execution": {
          "iopub.execute_input": "2021-02-23T22:51:40.589652Z",
          "iopub.status.busy": "2021-02-23T22:51:40.589026Z",
          "iopub.status.idle": "2021-02-23T22:51:40.596129Z",
          "shell.execute_reply": "2021-02-23T22:51:40.595607Z"
        },
        "papermill": {
          "duration": 0.073088,
          "end_time": "2021-02-23T22:51:40.596242",
          "exception": false,
          "start_time": "2021-02-23T22:51:40.523154",
          "status": "completed"
        },
        "tags": [],
        "id": "So32UFqxhLC5",
        "outputId": "16d18dfd-6a3c-474b-8b8f-85cb1151339d"
      },
      "source": [
        "soup.find_all(\"li\", text=\"Coringa\")"
      ],
      "execution_count": null,
      "outputs": [
        {
          "output_type": "execute_result",
          "data": {
            "text/plain": [
              "[<li>Coringa</li>, <li>Coringa</li>]"
            ]
          },
          "metadata": {
            "tags": []
          },
          "execution_count": 26
        }
      ]
    },
    {
      "cell_type": "code",
      "metadata": {
        "execution": {
          "iopub.execute_input": "2021-02-23T22:51:40.731428Z",
          "iopub.status.busy": "2021-02-23T22:51:40.730407Z",
          "iopub.status.idle": "2021-02-23T22:51:40.739112Z",
          "shell.execute_reply": "2021-02-23T22:51:40.739890Z"
        },
        "papermill": {
          "duration": 0.079485,
          "end_time": "2021-02-23T22:51:40.740044",
          "exception": false,
          "start_time": "2021-02-23T22:51:40.660559",
          "status": "completed"
        },
        "tags": [],
        "id": "5PvKhBsOhLC7",
        "outputId": "ae4fd6fb-ce37-49fb-8771-9ea0a42f22f9"
      },
      "source": [
        "soup.find_all(\"li\", text=\"1917\")"
      ],
      "execution_count": null,
      "outputs": [
        {
          "output_type": "execute_result",
          "data": {
            "text/plain": [
              "[<li>1917</li>, <li>1917</li>]"
            ]
          },
          "metadata": {
            "tags": []
          },
          "execution_count": 27
        }
      ]
    },
    {
      "cell_type": "code",
      "metadata": {
        "execution": {
          "iopub.execute_input": "2021-02-23T22:51:40.898163Z",
          "iopub.status.busy": "2021-02-23T22:51:40.897512Z",
          "iopub.status.idle": "2021-02-23T22:51:40.900446Z",
          "shell.execute_reply": "2021-02-23T22:51:40.900940Z"
        },
        "papermill": {
          "duration": 0.080057,
          "end_time": "2021-02-23T22:51:40.901077",
          "exception": false,
          "start_time": "2021-02-23T22:51:40.821020",
          "status": "completed"
        },
        "tags": [],
        "id": "MwuxFsBghLDA",
        "outputId": "a9b12d7d-f386-4c40-9aff-f66856a2cba1"
      },
      "source": [
        "soup.find_all(\"li\", text=\"O Irlandês\")"
      ],
      "execution_count": null,
      "outputs": [
        {
          "output_type": "execute_result",
          "data": {
            "text/plain": [
              "[<li>O Irlandês</li>, <li>O Irlandês</li>]"
            ]
          },
          "metadata": {
            "tags": []
          },
          "execution_count": 28
        }
      ]
    },
    {
      "cell_type": "code",
      "metadata": {
        "execution": {
          "iopub.execute_input": "2021-02-23T22:51:41.035382Z",
          "iopub.status.busy": "2021-02-23T22:51:41.034761Z",
          "iopub.status.idle": "2021-02-23T22:51:41.038748Z",
          "shell.execute_reply": "2021-02-23T22:51:41.039190Z"
        },
        "papermill": {
          "duration": 0.072183,
          "end_time": "2021-02-23T22:51:41.039355",
          "exception": false,
          "start_time": "2021-02-23T22:51:40.967172",
          "status": "completed"
        },
        "tags": [],
        "id": "lxQJ5kt_hLDB"
      },
      "source": [
        "import re"
      ],
      "execution_count": null,
      "outputs": []
    },
    {
      "cell_type": "code",
      "metadata": {
        "execution": {
          "iopub.execute_input": "2021-02-23T22:51:41.178305Z",
          "iopub.status.busy": "2021-02-23T22:51:41.177659Z",
          "iopub.status.idle": "2021-02-23T22:51:41.181650Z",
          "shell.execute_reply": "2021-02-23T22:51:41.181038Z"
        },
        "papermill": {
          "duration": 0.076087,
          "end_time": "2021-02-23T22:51:41.181761",
          "exception": false,
          "start_time": "2021-02-23T22:51:41.105674",
          "status": "completed"
        },
        "tags": [],
        "id": "a-y5W3_9hLDC",
        "outputId": "1d95d706-c4f1-4e4e-e74e-7587e5d56944"
      },
      "source": [
        "soup.find_all(\"h2\", text=re.compile(\"^Categoria\"))"
      ],
      "execution_count": null,
      "outputs": [
        {
          "output_type": "execute_result",
          "data": {
            "text/plain": [
              "[<h2>Categoria: melhor filme</h2>,\n",
              " <h2>Categoria: melhor ator</h2>,\n",
              " <h2>Categoria: melhor atriz</h2>]"
            ]
          },
          "metadata": {
            "tags": []
          },
          "execution_count": 30
        }
      ]
    },
    {
      "cell_type": "markdown",
      "metadata": {
        "papermill": {
          "duration": 0.065094,
          "end_time": "2021-02-23T22:51:41.312276",
          "exception": false,
          "start_time": "2021-02-23T22:51:41.247182",
          "status": "completed"
        },
        "tags": [],
        "id": "7xUGwTDYhLDD"
      },
      "source": [
        "### 3.10) Coletando por meio de atributos"
      ]
    },
    {
      "cell_type": "code",
      "metadata": {
        "execution": {
          "iopub.execute_input": "2021-02-23T22:51:41.449913Z",
          "iopub.status.busy": "2021-02-23T22:51:41.449096Z",
          "iopub.status.idle": "2021-02-23T22:51:41.452717Z",
          "shell.execute_reply": "2021-02-23T22:51:41.453166Z"
        },
        "papermill": {
          "duration": 0.075599,
          "end_time": "2021-02-23T22:51:41.453334",
          "exception": false,
          "start_time": "2021-02-23T22:51:41.377735",
          "status": "completed"
        },
        "tags": [],
        "id": "Zgp0RCzihLDE",
        "outputId": "2ebd30ef-aa6f-44dc-9434-457c163494b2"
      },
      "source": [
        "soup.find_all(\"ul\", {\"class\": \"destaques\"})"
      ],
      "execution_count": null,
      "outputs": [
        {
          "output_type": "execute_result",
          "data": {
            "text/plain": [
              "[<ul class=\"destaques\">\n",
              " <li>Coringa</li>\n",
              " <li>1917</li>\n",
              " <li>Era Uma Vez em Hollywood</li>\n",
              " <li>O Irlandês</li>\n",
              " </ul>]"
            ]
          },
          "metadata": {
            "tags": []
          },
          "execution_count": 31
        }
      ]
    },
    {
      "cell_type": "code",
      "metadata": {
        "execution": {
          "iopub.execute_input": "2021-02-23T22:51:41.591899Z",
          "iopub.status.busy": "2021-02-23T22:51:41.590921Z",
          "iopub.status.idle": "2021-02-23T22:51:41.594221Z",
          "shell.execute_reply": "2021-02-23T22:51:41.594776Z"
        },
        "papermill": {
          "duration": 0.075287,
          "end_time": "2021-02-23T22:51:41.594919",
          "exception": false,
          "start_time": "2021-02-23T22:51:41.519632",
          "status": "completed"
        },
        "tags": [],
        "id": "msifl8myhLDE",
        "outputId": "e181ed81-73ec-40c4-eb50-35efe7d0dd2e"
      },
      "source": [
        "for item in soup.find_all(\"ul\", {\"class\": \"destaques\"}):\n",
        "    print(item.get_text())"
      ],
      "execution_count": null,
      "outputs": [
        {
          "output_type": "stream",
          "text": [
            "\n",
            "Coringa\n",
            "1917\n",
            "Era Uma Vez em Hollywood\n",
            "O Irlandês\n",
            "\n"
          ],
          "name": "stdout"
        }
      ]
    },
    {
      "cell_type": "code",
      "metadata": {
        "execution": {
          "iopub.execute_input": "2021-02-23T22:51:41.734950Z",
          "iopub.status.busy": "2021-02-23T22:51:41.734053Z",
          "iopub.status.idle": "2021-02-23T22:51:41.738653Z",
          "shell.execute_reply": "2021-02-23T22:51:41.738119Z"
        },
        "papermill": {
          "duration": 0.076739,
          "end_time": "2021-02-23T22:51:41.738772",
          "exception": false,
          "start_time": "2021-02-23T22:51:41.662033",
          "status": "completed"
        },
        "tags": [],
        "id": "VzyR4g1whLDI",
        "outputId": "89b87cf7-6714-4fa0-c03f-64c5ce9dcb54"
      },
      "source": [
        "soup.find_all(\"li\", {\"class\": \"vencedor\"})"
      ],
      "execution_count": null,
      "outputs": [
        {
          "output_type": "execute_result",
          "data": {
            "text/plain": [
              "[<li class=\"vencedor\">Parasita <strong>[VENCEDOR]</strong></li>,\n",
              " <li class=\"vencedor\">Joaquin Phoenix - Coringa <strong>[VENCEDOR]</strong></li>,\n",
              " <li class=\"vencedor\">Renée Zellweger - Judy: Muito Além do Arco-Íris <strong>[VENCEDOR]</strong></li>]"
            ]
          },
          "metadata": {
            "tags": []
          },
          "execution_count": 33
        }
      ]
    },
    {
      "cell_type": "code",
      "metadata": {
        "execution": {
          "iopub.execute_input": "2021-02-23T22:51:41.879363Z",
          "iopub.status.busy": "2021-02-23T22:51:41.878587Z",
          "iopub.status.idle": "2021-02-23T22:51:41.882271Z",
          "shell.execute_reply": "2021-02-23T22:51:41.881654Z"
        },
        "papermill": {
          "duration": 0.076474,
          "end_time": "2021-02-23T22:51:41.882398",
          "exception": false,
          "start_time": "2021-02-23T22:51:41.805924",
          "status": "completed"
        },
        "tags": [],
        "id": "FQCa1SXThLDI",
        "outputId": "e878db27-0ed5-47d6-be02-686c66e188d3"
      },
      "source": [
        "for item in soup.find_all(\"li\", {\"class\": \"vencedor\"}):\n",
        "    print(item.get_text())"
      ],
      "execution_count": null,
      "outputs": [
        {
          "output_type": "stream",
          "text": [
            "Parasita [VENCEDOR]\n",
            "Joaquin Phoenix - Coringa [VENCEDOR]\n",
            "Renée Zellweger - Judy: Muito Além do Arco-Íris [VENCEDOR]\n"
          ],
          "name": "stdout"
        }
      ]
    },
    {
      "cell_type": "code",
      "metadata": {
        "execution": {
          "iopub.execute_input": "2021-02-23T22:51:42.024435Z",
          "iopub.status.busy": "2021-02-23T22:51:42.023570Z",
          "iopub.status.idle": "2021-02-23T22:51:42.027597Z",
          "shell.execute_reply": "2021-02-23T22:51:42.026894Z"
        },
        "papermill": {
          "duration": 0.077958,
          "end_time": "2021-02-23T22:51:42.027715",
          "exception": false,
          "start_time": "2021-02-23T22:51:41.949757",
          "status": "completed"
        },
        "tags": [],
        "id": "AEw-B49NhLDK",
        "outputId": "e53b84e9-6e87-4cf2-fde7-3d8452c34326"
      },
      "source": [
        "for item in soup.find_all(\"li\", {\"class\": \"vencedor\"}):\n",
        "    print(item.get_text().replace(\" [VENCEDOR]\", \"\"))"
      ],
      "execution_count": null,
      "outputs": [
        {
          "output_type": "stream",
          "text": [
            "Parasita\n",
            "Joaquin Phoenix - Coringa\n",
            "Renée Zellweger - Judy: Muito Além do Arco-Íris\n"
          ],
          "name": "stdout"
        }
      ]
    },
    {
      "cell_type": "markdown",
      "metadata": {
        "papermill": {
          "duration": 0.067592,
          "end_time": "2021-02-23T22:51:42.165206",
          "exception": false,
          "start_time": "2021-02-23T22:51:42.097614",
          "status": "completed"
        },
        "tags": [],
        "id": "qk_mez9-hLDL"
      },
      "source": [
        "### 3.11) Parents, siblings, next e previous: outra forma de percorrer o HTML\n",
        "\n",
        "* Quando as tags que precisamos pesquisar não apresentam atributos que as diferencie (como as classes, por exemplo), podemos percorrer o HTML de outras formas."
      ]
    },
    {
      "cell_type": "markdown",
      "metadata": {
        "papermill": {
          "duration": 0.067791,
          "end_time": "2021-02-23T22:51:42.301139",
          "exception": false,
          "start_time": "2021-02-23T22:51:42.233348",
          "status": "completed"
        },
        "tags": [],
        "id": "SyDt92aBhLDL"
      },
      "source": [
        "#### Parents"
      ]
    },
    {
      "cell_type": "code",
      "metadata": {
        "execution": {
          "iopub.execute_input": "2021-02-23T22:51:42.444538Z",
          "iopub.status.busy": "2021-02-23T22:51:42.443615Z",
          "iopub.status.idle": "2021-02-23T22:51:42.448010Z",
          "shell.execute_reply": "2021-02-23T22:51:42.447370Z"
        },
        "papermill": {
          "duration": 0.078944,
          "end_time": "2021-02-23T22:51:42.448121",
          "exception": false,
          "start_time": "2021-02-23T22:51:42.369177",
          "status": "completed"
        },
        "tags": [],
        "id": "xPoEW9jUhLDL",
        "outputId": "519878c1-afc2-4d8e-90e3-a02400fb38a2"
      },
      "source": [
        "soup.find(\"li\", {\"class\": \"vencedor\"}).get_text()"
      ],
      "execution_count": null,
      "outputs": [
        {
          "output_type": "execute_result",
          "data": {
            "text/plain": [
              "'Parasita [VENCEDOR]'"
            ]
          },
          "metadata": {
            "tags": []
          },
          "execution_count": 36
        }
      ]
    },
    {
      "cell_type": "code",
      "metadata": {
        "execution": {
          "iopub.execute_input": "2021-02-23T22:51:42.594100Z",
          "iopub.status.busy": "2021-02-23T22:51:42.593149Z",
          "iopub.status.idle": "2021-02-23T22:51:42.597708Z",
          "shell.execute_reply": "2021-02-23T22:51:42.597096Z"
        },
        "papermill": {
          "duration": 0.081131,
          "end_time": "2021-02-23T22:51:42.597818",
          "exception": false,
          "start_time": "2021-02-23T22:51:42.516687",
          "status": "completed"
        },
        "tags": [],
        "id": "fV_IY_CxhLDN",
        "outputId": "f3a713d6-9b1b-4cbe-b458-40a186ab5bc0"
      },
      "source": [
        "soup.find(\"li\", {\"class\": \"vencedor\"}).find_parent()"
      ],
      "execution_count": null,
      "outputs": [
        {
          "output_type": "execute_result",
          "data": {
            "text/plain": [
              "<ul>\n",
              "<li>Ford vs Ferrari</li>\n",
              "<li>O Irlandês</li>\n",
              "<li>JoJo Rabbit</li>\n",
              "<li>Coringa</li>\n",
              "<li>Adoráveis Mulheres</li>\n",
              "<li>História de um Casamento</li>\n",
              "<li>1917</li>\n",
              "<li>Era Uma Vez Em Hollywood</li>\n",
              "<li class=\"vencedor\">Parasita <strong>[VENCEDOR]</strong></li>\n",
              "</ul>"
            ]
          },
          "metadata": {
            "tags": []
          },
          "execution_count": 37
        }
      ]
    },
    {
      "cell_type": "code",
      "metadata": {
        "execution": {
          "iopub.execute_input": "2021-02-23T22:51:42.745166Z",
          "iopub.status.busy": "2021-02-23T22:51:42.744462Z",
          "iopub.status.idle": "2021-02-23T22:51:42.748815Z",
          "shell.execute_reply": "2021-02-23T22:51:42.748102Z"
        },
        "papermill": {
          "duration": 0.082044,
          "end_time": "2021-02-23T22:51:42.748929",
          "exception": false,
          "start_time": "2021-02-23T22:51:42.666885",
          "status": "completed"
        },
        "tags": [],
        "id": "CIJs2u-BhLDN",
        "outputId": "2eb705b2-b0cf-4289-aa31-588d5d322246"
      },
      "source": [
        "soup.find(\"li\", {\"class\": \"vencedor\"}).find_parent('div')"
      ],
      "execution_count": null,
      "outputs": [
        {
          "output_type": "execute_result",
          "data": {
            "text/plain": [
              "<div class=\"categoria-melhor-filme\">\n",
              "<h2>Categoria: melhor filme</h2>\n",
              "<ul>\n",
              "<li>Ford vs Ferrari</li>\n",
              "<li>O Irlandês</li>\n",
              "<li>JoJo Rabbit</li>\n",
              "<li>Coringa</li>\n",
              "<li>Adoráveis Mulheres</li>\n",
              "<li>História de um Casamento</li>\n",
              "<li>1917</li>\n",
              "<li>Era Uma Vez Em Hollywood</li>\n",
              "<li class=\"vencedor\">Parasita <strong>[VENCEDOR]</strong></li>\n",
              "</ul>\n",
              "</div>"
            ]
          },
          "metadata": {
            "tags": []
          },
          "execution_count": 38
        }
      ]
    },
    {
      "cell_type": "code",
      "metadata": {
        "execution": {
          "iopub.execute_input": "2021-02-23T22:51:42.894428Z",
          "iopub.status.busy": "2021-02-23T22:51:42.893772Z",
          "iopub.status.idle": "2021-02-23T22:51:42.897587Z",
          "shell.execute_reply": "2021-02-23T22:51:42.896891Z"
        },
        "papermill": {
          "duration": 0.079019,
          "end_time": "2021-02-23T22:51:42.897698",
          "exception": false,
          "start_time": "2021-02-23T22:51:42.818679",
          "status": "completed"
        },
        "tags": [],
        "id": "l_HUOan8hLDO",
        "outputId": "10668597-6841-44a8-b6ec-1bfcb29bfbef"
      },
      "source": [
        "soup.find(\"li\", {\"class\": \"vencedor\"}).find_parent('div').find('h2').get_text()"
      ],
      "execution_count": null,
      "outputs": [
        {
          "output_type": "execute_result",
          "data": {
            "text/plain": [
              "'Categoria: melhor filme'"
            ]
          },
          "metadata": {
            "tags": []
          },
          "execution_count": 39
        }
      ]
    },
    {
      "cell_type": "markdown",
      "metadata": {
        "papermill": {
          "duration": 0.070389,
          "end_time": "2021-02-23T22:51:43.038691",
          "exception": false,
          "start_time": "2021-02-23T22:51:42.968302",
          "status": "completed"
        },
        "tags": [],
        "id": "9WuHct0dhLDQ"
      },
      "source": [
        "#### Siblings"
      ]
    },
    {
      "cell_type": "code",
      "metadata": {
        "execution": {
          "iopub.execute_input": "2021-02-23T22:51:43.186061Z",
          "iopub.status.busy": "2021-02-23T22:51:43.185283Z",
          "iopub.status.idle": "2021-02-23T22:51:43.190636Z",
          "shell.execute_reply": "2021-02-23T22:51:43.190006Z"
        },
        "papermill": {
          "duration": 0.080472,
          "end_time": "2021-02-23T22:51:43.190749",
          "exception": false,
          "start_time": "2021-02-23T22:51:43.110277",
          "status": "completed"
        },
        "tags": [],
        "id": "pm0wZZvfhLDR",
        "outputId": "711d9014-7e97-481a-f553-ff4c1af962ff"
      },
      "source": [
        "soup.find('h2').get_text()"
      ],
      "execution_count": null,
      "outputs": [
        {
          "output_type": "execute_result",
          "data": {
            "text/plain": [
              "'Categoria: melhor filme'"
            ]
          },
          "metadata": {
            "tags": []
          },
          "execution_count": 40
        }
      ]
    },
    {
      "cell_type": "code",
      "metadata": {
        "execution": {
          "iopub.execute_input": "2021-02-23T22:51:43.357011Z",
          "iopub.status.busy": "2021-02-23T22:51:43.356349Z",
          "iopub.status.idle": "2021-02-23T22:51:43.360414Z",
          "shell.execute_reply": "2021-02-23T22:51:43.360915Z"
        },
        "papermill": {
          "duration": 0.098809,
          "end_time": "2021-02-23T22:51:43.361064",
          "exception": false,
          "start_time": "2021-02-23T22:51:43.262255",
          "status": "completed"
        },
        "tags": [],
        "id": "l3dVM14nhLDR",
        "outputId": "50f48a2d-f605-4cf7-8f31-de8327859cb5"
      },
      "source": [
        "soup.find('h2').find_next_sibling()"
      ],
      "execution_count": null,
      "outputs": [
        {
          "output_type": "execute_result",
          "data": {
            "text/plain": [
              "<ul>\n",
              "<li>Ford vs Ferrari</li>\n",
              "<li>O Irlandês</li>\n",
              "<li>JoJo Rabbit</li>\n",
              "<li>Coringa</li>\n",
              "<li>Adoráveis Mulheres</li>\n",
              "<li>História de um Casamento</li>\n",
              "<li>1917</li>\n",
              "<li>Era Uma Vez Em Hollywood</li>\n",
              "<li class=\"vencedor\">Parasita <strong>[VENCEDOR]</strong></li>\n",
              "</ul>"
            ]
          },
          "metadata": {
            "tags": []
          },
          "execution_count": 41
        }
      ]
    },
    {
      "cell_type": "code",
      "metadata": {
        "execution": {
          "iopub.execute_input": "2021-02-23T22:51:43.517665Z",
          "iopub.status.busy": "2021-02-23T22:51:43.516664Z",
          "iopub.status.idle": "2021-02-23T22:51:43.521328Z",
          "shell.execute_reply": "2021-02-23T22:51:43.520811Z"
        },
        "papermill": {
          "duration": 0.083963,
          "end_time": "2021-02-23T22:51:43.521442",
          "exception": false,
          "start_time": "2021-02-23T22:51:43.437479",
          "status": "completed"
        },
        "tags": [],
        "id": "uXqk8qTwhLDS",
        "outputId": "2c466dc3-3bd2-4e5c-ed49-dca32f91f8f4"
      },
      "source": [
        "soup.find('div', {'class': 'categoria-melhor-filme'}).find_next_siblings()"
      ],
      "execution_count": null,
      "outputs": [
        {
          "output_type": "execute_result",
          "data": {
            "text/plain": [
              "[<br/>,\n",
              " <div class=\"categoria-melhor-ator\">\n",
              " <h2>Categoria: melhor ator</h2>\n",
              " <ul>\n",
              " <li>Antonio Banderas - Dor e Glória</li>\n",
              " <li>Leonardo DiCaprio - Era Uma Vez Em... Hollywood</li>\n",
              " <li>Adam Driver - História de um Casamento</li>\n",
              " <li class=\"vencedor\">Joaquin Phoenix - Coringa <strong>[VENCEDOR]</strong></li>\n",
              " <li>Jonathan Price - Dois Papas</li>\n",
              " </ul>\n",
              " </div>,\n",
              " <br/>,\n",
              " <div class=\"categoria-melhor-atriz\">\n",
              " <h2>Categoria: melhor atriz</h2>\n",
              " <ul>\n",
              " <li>Cythia Erivo - Harriet</li>\n",
              " <li>Scarlett Johansson - História de um Casamento</li>\n",
              " <li>Saoirse Ronan - Adoráveis Mulheres</li>\n",
              " <li>Charlize Theron - O Escândalo</li>\n",
              " <li class=\"vencedor\">Renée Zellweger - Judy: Muito Além do Arco-Íris <strong>[VENCEDOR]</strong></li>\n",
              " </ul>\n",
              " </div>]"
            ]
          },
          "metadata": {
            "tags": []
          },
          "execution_count": 42
        }
      ]
    },
    {
      "cell_type": "code",
      "metadata": {
        "execution": {
          "iopub.execute_input": "2021-02-23T22:51:43.690584Z",
          "iopub.status.busy": "2021-02-23T22:51:43.689599Z",
          "iopub.status.idle": "2021-02-23T22:51:43.694117Z",
          "shell.execute_reply": "2021-02-23T22:51:43.693425Z"
        },
        "papermill": {
          "duration": 0.083812,
          "end_time": "2021-02-23T22:51:43.694226",
          "exception": false,
          "start_time": "2021-02-23T22:51:43.610414",
          "status": "completed"
        },
        "tags": [],
        "id": "lGiCUOVChLDS",
        "outputId": "8b61f013-dd36-4087-9924-f4460dc4c0bf"
      },
      "source": [
        "soup.find('li', {'class': 'vencedor'}).find_previous_sibling().get_text()"
      ],
      "execution_count": null,
      "outputs": [
        {
          "output_type": "execute_result",
          "data": {
            "text/plain": [
              "'Era Uma Vez Em Hollywood'"
            ]
          },
          "metadata": {
            "tags": []
          },
          "execution_count": 43
        }
      ]
    },
    {
      "cell_type": "code",
      "metadata": {
        "execution": {
          "iopub.execute_input": "2021-02-23T22:51:43.848155Z",
          "iopub.status.busy": "2021-02-23T22:51:43.847257Z",
          "iopub.status.idle": "2021-02-23T22:51:43.852273Z",
          "shell.execute_reply": "2021-02-23T22:51:43.851749Z"
        },
        "papermill": {
          "duration": 0.084994,
          "end_time": "2021-02-23T22:51:43.852410",
          "exception": false,
          "start_time": "2021-02-23T22:51:43.767416",
          "status": "completed"
        },
        "tags": [],
        "id": "JUOi85FvhLDT",
        "outputId": "b54d3c06-2753-4e26-8d1c-3897943b879f"
      },
      "source": [
        "soup.find('div', {'class': 'categoria-melhor-atriz'}).find_previous_siblings()"
      ],
      "execution_count": null,
      "outputs": [
        {
          "output_type": "execute_result",
          "data": {
            "text/plain": [
              "[<br/>,\n",
              " <div class=\"categoria-melhor-ator\">\n",
              " <h2>Categoria: melhor ator</h2>\n",
              " <ul>\n",
              " <li>Antonio Banderas - Dor e Glória</li>\n",
              " <li>Leonardo DiCaprio - Era Uma Vez Em... Hollywood</li>\n",
              " <li>Adam Driver - História de um Casamento</li>\n",
              " <li class=\"vencedor\">Joaquin Phoenix - Coringa <strong>[VENCEDOR]</strong></li>\n",
              " <li>Jonathan Price - Dois Papas</li>\n",
              " </ul>\n",
              " </div>,\n",
              " <br/>,\n",
              " <div class=\"categoria-melhor-filme\">\n",
              " <h2>Categoria: melhor filme</h2>\n",
              " <ul>\n",
              " <li>Ford vs Ferrari</li>\n",
              " <li>O Irlandês</li>\n",
              " <li>JoJo Rabbit</li>\n",
              " <li>Coringa</li>\n",
              " <li>Adoráveis Mulheres</li>\n",
              " <li>História de um Casamento</li>\n",
              " <li>1917</li>\n",
              " <li>Era Uma Vez Em Hollywood</li>\n",
              " <li class=\"vencedor\">Parasita <strong>[VENCEDOR]</strong></li>\n",
              " </ul>\n",
              " </div>]"
            ]
          },
          "metadata": {
            "tags": []
          },
          "execution_count": 44
        }
      ]
    },
    {
      "cell_type": "markdown",
      "metadata": {
        "papermill": {
          "duration": 0.073617,
          "end_time": "2021-02-23T22:51:43.999570",
          "exception": false,
          "start_time": "2021-02-23T22:51:43.925953",
          "status": "completed"
        },
        "tags": [],
        "id": "cZ22rouRhLDU"
      },
      "source": [
        "#### Next e Previous"
      ]
    },
    {
      "cell_type": "code",
      "metadata": {
        "execution": {
          "iopub.execute_input": "2021-02-23T22:51:44.155690Z",
          "iopub.status.busy": "2021-02-23T22:51:44.155036Z",
          "iopub.status.idle": "2021-02-23T22:51:44.157828Z",
          "shell.execute_reply": "2021-02-23T22:51:44.158402Z"
        },
        "papermill": {
          "duration": 0.082312,
          "end_time": "2021-02-23T22:51:44.158544",
          "exception": false,
          "start_time": "2021-02-23T22:51:44.076232",
          "status": "completed"
        },
        "tags": [],
        "id": "5L_VUnO5hLDU",
        "outputId": "f3cf3460-47bd-4a35-afb7-73460d9dcf49"
      },
      "source": [
        "soup.find('div', {'class': 'categoria-melhor-ator'}).find('li', {'class': 'vencedor'}).get_text()"
      ],
      "execution_count": null,
      "outputs": [
        {
          "output_type": "execute_result",
          "data": {
            "text/plain": [
              "'Joaquin Phoenix - Coringa [VENCEDOR]'"
            ]
          },
          "metadata": {
            "tags": []
          },
          "execution_count": 45
        }
      ]
    },
    {
      "cell_type": "code",
      "metadata": {
        "execution": {
          "iopub.execute_input": "2021-02-23T22:51:44.310173Z",
          "iopub.status.busy": "2021-02-23T22:51:44.309551Z",
          "iopub.status.idle": "2021-02-23T22:51:44.316362Z",
          "shell.execute_reply": "2021-02-23T22:51:44.316861Z"
        },
        "papermill": {
          "duration": 0.083476,
          "end_time": "2021-02-23T22:51:44.317005",
          "exception": false,
          "start_time": "2021-02-23T22:51:44.233529",
          "status": "completed"
        },
        "tags": [],
        "id": "3kP4BLv_hLDW",
        "outputId": "f0a1f65f-3aef-4be1-dd3e-1f1c98d20fc0"
      },
      "source": [
        "soup.find('div', {'class': 'categoria-melhor-ator'}).find('li', {'class': 'vencedor'}).find_next('li').get_text()"
      ],
      "execution_count": null,
      "outputs": [
        {
          "output_type": "execute_result",
          "data": {
            "text/plain": [
              "'Jonathan Price - Dois Papas'"
            ]
          },
          "metadata": {
            "tags": []
          },
          "execution_count": 46
        }
      ]
    },
    {
      "cell_type": "code",
      "metadata": {
        "execution": {
          "iopub.execute_input": "2021-02-23T22:51:44.470602Z",
          "iopub.status.busy": "2021-02-23T22:51:44.469956Z",
          "iopub.status.idle": "2021-02-23T22:51:44.474291Z",
          "shell.execute_reply": "2021-02-23T22:51:44.473767Z"
        },
        "papermill": {
          "duration": 0.083692,
          "end_time": "2021-02-23T22:51:44.474424",
          "exception": false,
          "start_time": "2021-02-23T22:51:44.390732",
          "status": "completed"
        },
        "tags": [],
        "id": "O8pV93C9hLDW",
        "outputId": "e4039d44-d335-46a9-e633-e8e9caf8af30"
      },
      "source": [
        "soup.find('div', {'class': 'categoria-melhor-ator'}).find('li', {'class': 'vencedor'}).find_previous('li').get_text()"
      ],
      "execution_count": null,
      "outputs": [
        {
          "output_type": "execute_result",
          "data": {
            "text/plain": [
              "'Adam Driver - História de um Casamento'"
            ]
          },
          "metadata": {
            "tags": []
          },
          "execution_count": 47
        }
      ]
    },
    {
      "cell_type": "code",
      "metadata": {
        "execution": {
          "iopub.execute_input": "2021-02-23T22:51:44.625511Z",
          "iopub.status.busy": "2021-02-23T22:51:44.624877Z",
          "iopub.status.idle": "2021-02-23T22:51:44.632544Z",
          "shell.execute_reply": "2021-02-23T22:51:44.632039Z"
        },
        "papermill": {
          "duration": 0.084631,
          "end_time": "2021-02-23T22:51:44.632656",
          "exception": false,
          "start_time": "2021-02-23T22:51:44.548025",
          "status": "completed"
        },
        "tags": [],
        "id": "_0s63cePhLDX",
        "outputId": "b0397903-e3cd-4d0a-ddc9-b02c326fafc4"
      },
      "source": [
        "soup.find('div', {'class': 'categoria-melhor-ator'}).find('li', {'class': 'vencedor'}).find_all_next('li')"
      ],
      "execution_count": null,
      "outputs": [
        {
          "output_type": "execute_result",
          "data": {
            "text/plain": [
              "[<li>Jonathan Price - Dois Papas</li>,\n",
              " <li>Cythia Erivo - Harriet</li>,\n",
              " <li>Scarlett Johansson - História de um Casamento</li>,\n",
              " <li>Saoirse Ronan - Adoráveis Mulheres</li>,\n",
              " <li>Charlize Theron - O Escândalo</li>,\n",
              " <li class=\"vencedor\">Renée Zellweger - Judy: Muito Além do Arco-Íris <strong>[VENCEDOR]</strong></li>]"
            ]
          },
          "metadata": {
            "tags": []
          },
          "execution_count": 48
        }
      ]
    },
    {
      "cell_type": "code",
      "metadata": {
        "execution": {
          "iopub.execute_input": "2021-02-23T22:51:44.791609Z",
          "iopub.status.busy": "2021-02-23T22:51:44.790668Z",
          "iopub.status.idle": "2021-02-23T22:51:44.794283Z",
          "shell.execute_reply": "2021-02-23T22:51:44.794816Z"
        },
        "papermill": {
          "duration": 0.087928,
          "end_time": "2021-02-23T22:51:44.794964",
          "exception": false,
          "start_time": "2021-02-23T22:51:44.707036",
          "status": "completed"
        },
        "tags": [],
        "id": "C7v6u5vzhLDX",
        "outputId": "7452ef85-8200-4f98-abce-9cdc2697b786"
      },
      "source": [
        "soup.find('div', {'class': 'categoria-melhor-ator'}).find('li', {'class': 'vencedor'}).find_all_previous('li')"
      ],
      "execution_count": null,
      "outputs": [
        {
          "output_type": "execute_result",
          "data": {
            "text/plain": [
              "[<li>Adam Driver - História de um Casamento</li>,\n",
              " <li>Leonardo DiCaprio - Era Uma Vez Em... Hollywood</li>,\n",
              " <li>Antonio Banderas - Dor e Glória</li>,\n",
              " <li class=\"vencedor\">Parasita <strong>[VENCEDOR]</strong></li>,\n",
              " <li>Era Uma Vez Em Hollywood</li>,\n",
              " <li>1917</li>,\n",
              " <li>História de um Casamento</li>,\n",
              " <li>Adoráveis Mulheres</li>,\n",
              " <li>Coringa</li>,\n",
              " <li>JoJo Rabbit</li>,\n",
              " <li>O Irlandês</li>,\n",
              " <li>Ford vs Ferrari</li>,\n",
              " <li>O Irlandês</li>,\n",
              " <li>Era Uma Vez em Hollywood</li>,\n",
              " <li>1917</li>,\n",
              " <li>Coringa</li>]"
            ]
          },
          "metadata": {
            "tags": []
          },
          "execution_count": 49
        }
      ]
    },
    {
      "cell_type": "markdown",
      "metadata": {
        "papermill": {
          "duration": 0.074931,
          "end_time": "2021-02-23T22:51:44.944748",
          "exception": false,
          "start_time": "2021-02-23T22:51:44.869817",
          "status": "completed"
        },
        "tags": [],
        "id": "6tJc0xk5hLDZ"
      },
      "source": [
        "### Mini-desafio 2: colete todos os filmes que não tenham vencido suas categorias"
      ]
    },
    {
      "cell_type": "code",
      "metadata": {
        "execution": {
          "iopub.execute_input": "2021-02-23T22:51:45.100492Z",
          "iopub.status.busy": "2021-02-23T22:51:45.099528Z",
          "iopub.status.idle": "2021-02-23T22:51:45.103127Z",
          "shell.execute_reply": "2021-02-23T22:51:45.103600Z"
        },
        "papermill": {
          "duration": 0.083617,
          "end_time": "2021-02-23T22:51:45.103742",
          "exception": false,
          "start_time": "2021-02-23T22:51:45.020125",
          "status": "completed"
        },
        "tags": [],
        "id": "zQTbupQchLDa"
      },
      "source": [
        "# Insira a sua resposta aqui"
      ],
      "execution_count": null,
      "outputs": []
    },
    {
      "cell_type": "markdown",
      "metadata": {
        "papermill": {
          "duration": 0.074791,
          "end_time": "2021-02-23T22:51:45.253887",
          "exception": false,
          "start_time": "2021-02-23T22:51:45.179096",
          "status": "completed"
        },
        "tags": [],
        "id": "9cKDoHWohLDa"
      },
      "source": [
        "## 4) Trabalhando com dicionários e DataFrames"
      ]
    },
    {
      "cell_type": "code",
      "metadata": {
        "execution": {
          "iopub.execute_input": "2021-02-23T22:51:45.408424Z",
          "iopub.status.busy": "2021-02-23T22:51:45.407465Z",
          "iopub.status.idle": "2021-02-23T22:51:45.411215Z",
          "shell.execute_reply": "2021-02-23T22:51:45.411776Z"
        },
        "papermill": {
          "duration": 0.082761,
          "end_time": "2021-02-23T22:51:45.411924",
          "exception": false,
          "start_time": "2021-02-23T22:51:45.329163",
          "status": "completed"
        },
        "tags": [],
        "id": "cm0-aV93hLDc"
      },
      "source": [
        "import pandas as pd"
      ],
      "execution_count": null,
      "outputs": []
    },
    {
      "cell_type": "code",
      "metadata": {
        "execution": {
          "iopub.execute_input": "2021-02-23T22:51:45.566230Z",
          "iopub.status.busy": "2021-02-23T22:51:45.565564Z",
          "iopub.status.idle": "2021-02-23T22:51:45.572293Z",
          "shell.execute_reply": "2021-02-23T22:51:45.571763Z"
        },
        "papermill": {
          "duration": 0.084628,
          "end_time": "2021-02-23T22:51:45.572420",
          "exception": false,
          "start_time": "2021-02-23T22:51:45.487792",
          "status": "completed"
        },
        "tags": [],
        "id": "LeO_2Mj4hLDe",
        "outputId": "a765d019-83b9-44ae-9147-a9d160f1f10c"
      },
      "source": [
        "soup.find_all(\"h2\", text=re.compile(\"^Categoria\"))"
      ],
      "execution_count": null,
      "outputs": [
        {
          "output_type": "execute_result",
          "data": {
            "text/plain": [
              "[<h2>Categoria: melhor filme</h2>,\n",
              " <h2>Categoria: melhor ator</h2>,\n",
              " <h2>Categoria: melhor atriz</h2>]"
            ]
          },
          "metadata": {
            "tags": []
          },
          "execution_count": 52
        }
      ]
    },
    {
      "cell_type": "code",
      "metadata": {
        "execution": {
          "iopub.execute_input": "2021-02-23T22:51:45.726809Z",
          "iopub.status.busy": "2021-02-23T22:51:45.726192Z",
          "iopub.status.idle": "2021-02-23T22:51:45.730604Z",
          "shell.execute_reply": "2021-02-23T22:51:45.731142Z"
        },
        "papermill": {
          "duration": 0.083186,
          "end_time": "2021-02-23T22:51:45.731278",
          "exception": false,
          "start_time": "2021-02-23T22:51:45.648092",
          "status": "completed"
        },
        "tags": [],
        "id": "Ydn22YiphLDh"
      },
      "source": [
        "categorias = soup.find_all(\"h2\", text=re.compile(\"^Categoria\"))"
      ],
      "execution_count": null,
      "outputs": []
    },
    {
      "cell_type": "code",
      "metadata": {
        "execution": {
          "iopub.execute_input": "2021-02-23T22:51:45.890256Z",
          "iopub.status.busy": "2021-02-23T22:51:45.889224Z",
          "iopub.status.idle": "2021-02-23T22:51:45.895862Z",
          "shell.execute_reply": "2021-02-23T22:51:45.896468Z"
        },
        "papermill": {
          "duration": 0.086363,
          "end_time": "2021-02-23T22:51:45.896607",
          "exception": false,
          "start_time": "2021-02-23T22:51:45.810244",
          "status": "completed"
        },
        "tags": [],
        "id": "9ADdVP-ahLDi",
        "outputId": "0077dd98-5f20-4814-ccf7-5cda147b5bbf"
      },
      "source": [
        "soup.find_all(\"li\", {\"class\": \"vencedor\"})"
      ],
      "execution_count": null,
      "outputs": [
        {
          "output_type": "execute_result",
          "data": {
            "text/plain": [
              "[<li class=\"vencedor\">Parasita <strong>[VENCEDOR]</strong></li>,\n",
              " <li class=\"vencedor\">Joaquin Phoenix - Coringa <strong>[VENCEDOR]</strong></li>,\n",
              " <li class=\"vencedor\">Renée Zellweger - Judy: Muito Além do Arco-Íris <strong>[VENCEDOR]</strong></li>]"
            ]
          },
          "metadata": {
            "tags": []
          },
          "execution_count": 54
        }
      ]
    },
    {
      "cell_type": "code",
      "metadata": {
        "execution": {
          "iopub.execute_input": "2021-02-23T22:51:46.054155Z",
          "iopub.status.busy": "2021-02-23T22:51:46.053173Z",
          "iopub.status.idle": "2021-02-23T22:51:46.058010Z",
          "shell.execute_reply": "2021-02-23T22:51:46.058573Z"
        },
        "papermill": {
          "duration": 0.085132,
          "end_time": "2021-02-23T22:51:46.058708",
          "exception": false,
          "start_time": "2021-02-23T22:51:45.973576",
          "status": "completed"
        },
        "tags": [],
        "id": "KtcarkY7hLDj"
      },
      "source": [
        "vencedores = soup.find_all(\"li\", {\"class\": \"vencedor\"})"
      ],
      "execution_count": null,
      "outputs": []
    },
    {
      "cell_type": "code",
      "metadata": {
        "execution": {
          "iopub.execute_input": "2021-02-23T22:51:46.216634Z",
          "iopub.status.busy": "2021-02-23T22:51:46.215665Z",
          "iopub.status.idle": "2021-02-23T22:51:46.219568Z",
          "shell.execute_reply": "2021-02-23T22:51:46.220140Z"
        },
        "papermill": {
          "duration": 0.085224,
          "end_time": "2021-02-23T22:51:46.220284",
          "exception": false,
          "start_time": "2021-02-23T22:51:46.135060",
          "status": "completed"
        },
        "tags": [],
        "id": "Fy8lU0sBhLDm"
      },
      "source": [
        "vencedores_categorias = {}"
      ],
      "execution_count": null,
      "outputs": []
    },
    {
      "cell_type": "code",
      "metadata": {
        "execution": {
          "iopub.execute_input": "2021-02-23T22:51:46.378008Z",
          "iopub.status.busy": "2021-02-23T22:51:46.376973Z",
          "iopub.status.idle": "2021-02-23T22:51:46.383837Z",
          "shell.execute_reply": "2021-02-23T22:51:46.383273Z"
        },
        "papermill": {
          "duration": 0.087229,
          "end_time": "2021-02-23T22:51:46.383942",
          "exception": false,
          "start_time": "2021-02-23T22:51:46.296713",
          "status": "completed"
        },
        "tags": [],
        "id": "GA6F76mWhLDn"
      },
      "source": [
        "for cat, ven in zip(categorias, vencedores):\n",
        "    categoria = cat.get_text().replace(\"Categoria: \", \"\")\n",
        "    vencedor = ven.get_text().replace(\" [VENCEDOR]\", \"\")\n",
        "    \n",
        "    vencedores_categorias.update({categoria: [vencedor]})"
      ],
      "execution_count": null,
      "outputs": []
    },
    {
      "cell_type": "code",
      "metadata": {
        "execution": {
          "iopub.execute_input": "2021-02-23T22:51:46.545179Z",
          "iopub.status.busy": "2021-02-23T22:51:46.544544Z",
          "iopub.status.idle": "2021-02-23T22:51:46.547024Z",
          "shell.execute_reply": "2021-02-23T22:51:46.547538Z"
        },
        "papermill": {
          "duration": 0.086799,
          "end_time": "2021-02-23T22:51:46.547674",
          "exception": false,
          "start_time": "2021-02-23T22:51:46.460875",
          "status": "completed"
        },
        "tags": [],
        "id": "SSBLF9BBhLDo",
        "outputId": "6020917b-18c7-4122-b285-05e4519868fe"
      },
      "source": [
        "vencedores_categorias"
      ],
      "execution_count": null,
      "outputs": [
        {
          "output_type": "execute_result",
          "data": {
            "text/plain": [
              "{'melhor filme': ['Parasita'],\n",
              " 'melhor ator': ['Joaquin Phoenix - Coringa'],\n",
              " 'melhor atriz': ['Renée Zellweger - Judy: Muito Além do Arco-Íris']}"
            ]
          },
          "metadata": {
            "tags": []
          },
          "execution_count": 58
        }
      ]
    },
    {
      "cell_type": "code",
      "metadata": {
        "execution": {
          "iopub.execute_input": "2021-02-23T22:51:46.713104Z",
          "iopub.status.busy": "2021-02-23T22:51:46.712474Z",
          "iopub.status.idle": "2021-02-23T22:51:46.723427Z",
          "shell.execute_reply": "2021-02-23T22:51:46.723962Z"
        },
        "papermill": {
          "duration": 0.094576,
          "end_time": "2021-02-23T22:51:46.724104",
          "exception": false,
          "start_time": "2021-02-23T22:51:46.629528",
          "status": "completed"
        },
        "tags": [],
        "id": "KP5k0bXOhLDq"
      },
      "source": [
        "vencedores_categorias_df = pd.DataFrame.from_dict(vencedores_categorias, orient=\"index\", columns=[\"Vencedores\"])"
      ],
      "execution_count": null,
      "outputs": []
    },
    {
      "cell_type": "code",
      "metadata": {
        "execution": {
          "iopub.execute_input": "2021-02-23T22:51:46.887109Z",
          "iopub.status.busy": "2021-02-23T22:51:46.886488Z",
          "iopub.status.idle": "2021-02-23T22:51:46.902071Z",
          "shell.execute_reply": "2021-02-23T22:51:46.901506Z"
        },
        "papermill": {
          "duration": 0.096127,
          "end_time": "2021-02-23T22:51:46.902183",
          "exception": false,
          "start_time": "2021-02-23T22:51:46.806056",
          "status": "completed"
        },
        "tags": [],
        "id": "BzFBeMPOhLDq",
        "outputId": "0a86e006-ea40-4778-b971-c91b821bab9f"
      },
      "source": [
        "vencedores_categorias_df"
      ],
      "execution_count": null,
      "outputs": [
        {
          "output_type": "execute_result",
          "data": {
            "text/html": [
              "<div>\n",
              "<style scoped>\n",
              "    .dataframe tbody tr th:only-of-type {\n",
              "        vertical-align: middle;\n",
              "    }\n",
              "\n",
              "    .dataframe tbody tr th {\n",
              "        vertical-align: top;\n",
              "    }\n",
              "\n",
              "    .dataframe thead th {\n",
              "        text-align: right;\n",
              "    }\n",
              "</style>\n",
              "<table border=\"1\" class=\"dataframe\">\n",
              "  <thead>\n",
              "    <tr style=\"text-align: right;\">\n",
              "      <th></th>\n",
              "      <th>Vencedores</th>\n",
              "    </tr>\n",
              "  </thead>\n",
              "  <tbody>\n",
              "    <tr>\n",
              "      <th>melhor filme</th>\n",
              "      <td>Parasita</td>\n",
              "    </tr>\n",
              "    <tr>\n",
              "      <th>melhor ator</th>\n",
              "      <td>Joaquin Phoenix - Coringa</td>\n",
              "    </tr>\n",
              "    <tr>\n",
              "      <th>melhor atriz</th>\n",
              "      <td>Renée Zellweger - Judy: Muito Além do Arco-Íris</td>\n",
              "    </tr>\n",
              "  </tbody>\n",
              "</table>\n",
              "</div>"
            ],
            "text/plain": [
              "                                                   Vencedores\n",
              "melhor filme                                         Parasita\n",
              "melhor ator                         Joaquin Phoenix - Coringa\n",
              "melhor atriz  Renée Zellweger - Judy: Muito Além do Arco-Íris"
            ]
          },
          "metadata": {
            "tags": []
          },
          "execution_count": 60
        }
      ]
    },
    {
      "cell_type": "markdown",
      "metadata": {
        "papermill": {
          "duration": 0.078193,
          "end_time": "2021-02-23T22:51:47.059692",
          "exception": false,
          "start_time": "2021-02-23T22:51:46.981499",
          "status": "completed"
        },
        "tags": [],
        "id": "TFCcspW_hLDu"
      },
      "source": [
        "## 5) Coletando dados da Web"
      ]
    },
    {
      "cell_type": "code",
      "metadata": {
        "execution": {
          "iopub.execute_input": "2021-02-23T22:51:47.220191Z",
          "iopub.status.busy": "2021-02-23T22:51:47.219158Z",
          "iopub.status.idle": "2021-02-23T22:51:47.223276Z",
          "shell.execute_reply": "2021-02-23T22:51:47.223840Z"
        },
        "papermill": {
          "duration": 0.085978,
          "end_time": "2021-02-23T22:51:47.223979",
          "exception": false,
          "start_time": "2021-02-23T22:51:47.138001",
          "status": "completed"
        },
        "tags": [],
        "id": "DgFwoNTbhLDv"
      },
      "source": [
        "from urllib.request import urlopen"
      ],
      "execution_count": null,
      "outputs": []
    },
    {
      "cell_type": "code",
      "metadata": {
        "execution": {
          "iopub.execute_input": "2021-02-23T22:51:47.386422Z",
          "iopub.status.busy": "2021-02-23T22:51:47.385673Z",
          "iopub.status.idle": "2021-02-23T22:51:47.388897Z",
          "shell.execute_reply": "2021-02-23T22:51:47.388261Z"
        },
        "papermill": {
          "duration": 0.08684,
          "end_time": "2021-02-23T22:51:47.389014",
          "exception": false,
          "start_time": "2021-02-23T22:51:47.302174",
          "status": "completed"
        },
        "tags": [],
        "id": "XCZpn_M3hLDw"
      },
      "source": [
        "url = 'https://ocean-web-scraping.herokuapp.com/'"
      ],
      "execution_count": null,
      "outputs": []
    },
    {
      "cell_type": "code",
      "metadata": {
        "execution": {
          "iopub.execute_input": "2021-02-23T22:51:47.562617Z",
          "iopub.status.busy": "2021-02-23T22:51:47.561800Z",
          "iopub.status.idle": "2021-02-23T22:52:07.647597Z",
          "shell.execute_reply": "2021-02-23T22:52:07.646922Z"
        },
        "papermill": {
          "duration": 20.180708,
          "end_time": "2021-02-23T22:52:07.647724",
          "exception": false,
          "start_time": "2021-02-23T22:51:47.467016",
          "status": "completed"
        },
        "tags": [],
        "id": "CRxGWIG4hLDw",
        "outputId": "bd256d98-b74b-4c76-e192-d57a849ba38e"
      },
      "source": [
        "response = urlopen(url)"
      ],
      "execution_count": null,
      "outputs": [
        {
          "output_type": "error",
          "ename": "URLError",
          "evalue": "<urlopen error [Errno -3] Temporary failure in name resolution>",
          "traceback": [
            "\u001b[0;31m---------------------------------------------------------------------------\u001b[0m",
            "\u001b[0;31mgaierror\u001b[0m                                  Traceback (most recent call last)",
            "\u001b[0;32m/opt/conda/lib/python3.7/urllib/request.py\u001b[0m in \u001b[0;36mdo_open\u001b[0;34m(self, http_class, req, **http_conn_args)\u001b[0m\n\u001b[1;32m   1318\u001b[0m                 h.request(req.get_method(), req.selector, req.data, headers,\n\u001b[0;32m-> 1319\u001b[0;31m                           encode_chunked=req.has_header('Transfer-encoding'))\n\u001b[0m\u001b[1;32m   1320\u001b[0m             \u001b[0;32mexcept\u001b[0m \u001b[0mOSError\u001b[0m \u001b[0;32mas\u001b[0m \u001b[0merr\u001b[0m\u001b[0;34m:\u001b[0m \u001b[0;31m# timeout error\u001b[0m\u001b[0;34m\u001b[0m\u001b[0;34m\u001b[0m\u001b[0m\n",
            "\u001b[0;32m/opt/conda/lib/python3.7/http/client.py\u001b[0m in \u001b[0;36mrequest\u001b[0;34m(self, method, url, body, headers, encode_chunked)\u001b[0m\n\u001b[1;32m   1251\u001b[0m         \u001b[0;34m\"\"\"Send a complete request to the server.\"\"\"\u001b[0m\u001b[0;34m\u001b[0m\u001b[0;34m\u001b[0m\u001b[0m\n\u001b[0;32m-> 1252\u001b[0;31m         \u001b[0mself\u001b[0m\u001b[0;34m.\u001b[0m\u001b[0m_send_request\u001b[0m\u001b[0;34m(\u001b[0m\u001b[0mmethod\u001b[0m\u001b[0;34m,\u001b[0m \u001b[0murl\u001b[0m\u001b[0;34m,\u001b[0m \u001b[0mbody\u001b[0m\u001b[0;34m,\u001b[0m \u001b[0mheaders\u001b[0m\u001b[0;34m,\u001b[0m \u001b[0mencode_chunked\u001b[0m\u001b[0;34m)\u001b[0m\u001b[0;34m\u001b[0m\u001b[0;34m\u001b[0m\u001b[0m\n\u001b[0m\u001b[1;32m   1253\u001b[0m \u001b[0;34m\u001b[0m\u001b[0m\n",
            "\u001b[0;32m/opt/conda/lib/python3.7/http/client.py\u001b[0m in \u001b[0;36m_send_request\u001b[0;34m(self, method, url, body, headers, encode_chunked)\u001b[0m\n\u001b[1;32m   1297\u001b[0m             \u001b[0mbody\u001b[0m \u001b[0;34m=\u001b[0m \u001b[0m_encode\u001b[0m\u001b[0;34m(\u001b[0m\u001b[0mbody\u001b[0m\u001b[0;34m,\u001b[0m \u001b[0;34m'body'\u001b[0m\u001b[0;34m)\u001b[0m\u001b[0;34m\u001b[0m\u001b[0;34m\u001b[0m\u001b[0m\n\u001b[0;32m-> 1298\u001b[0;31m         \u001b[0mself\u001b[0m\u001b[0;34m.\u001b[0m\u001b[0mendheaders\u001b[0m\u001b[0;34m(\u001b[0m\u001b[0mbody\u001b[0m\u001b[0;34m,\u001b[0m \u001b[0mencode_chunked\u001b[0m\u001b[0;34m=\u001b[0m\u001b[0mencode_chunked\u001b[0m\u001b[0;34m)\u001b[0m\u001b[0;34m\u001b[0m\u001b[0;34m\u001b[0m\u001b[0m\n\u001b[0m\u001b[1;32m   1299\u001b[0m \u001b[0;34m\u001b[0m\u001b[0m\n",
            "\u001b[0;32m/opt/conda/lib/python3.7/http/client.py\u001b[0m in \u001b[0;36mendheaders\u001b[0;34m(self, message_body, encode_chunked)\u001b[0m\n\u001b[1;32m   1246\u001b[0m             \u001b[0;32mraise\u001b[0m \u001b[0mCannotSendHeader\u001b[0m\u001b[0;34m(\u001b[0m\u001b[0;34m)\u001b[0m\u001b[0;34m\u001b[0m\u001b[0;34m\u001b[0m\u001b[0m\n\u001b[0;32m-> 1247\u001b[0;31m         \u001b[0mself\u001b[0m\u001b[0;34m.\u001b[0m\u001b[0m_send_output\u001b[0m\u001b[0;34m(\u001b[0m\u001b[0mmessage_body\u001b[0m\u001b[0;34m,\u001b[0m \u001b[0mencode_chunked\u001b[0m\u001b[0;34m=\u001b[0m\u001b[0mencode_chunked\u001b[0m\u001b[0;34m)\u001b[0m\u001b[0;34m\u001b[0m\u001b[0;34m\u001b[0m\u001b[0m\n\u001b[0m\u001b[1;32m   1248\u001b[0m \u001b[0;34m\u001b[0m\u001b[0m\n",
            "\u001b[0;32m/opt/conda/lib/python3.7/http/client.py\u001b[0m in \u001b[0;36m_send_output\u001b[0;34m(self, message_body, encode_chunked)\u001b[0m\n\u001b[1;32m   1025\u001b[0m         \u001b[0;32mdel\u001b[0m \u001b[0mself\u001b[0m\u001b[0;34m.\u001b[0m\u001b[0m_buffer\u001b[0m\u001b[0;34m[\u001b[0m\u001b[0;34m:\u001b[0m\u001b[0;34m]\u001b[0m\u001b[0;34m\u001b[0m\u001b[0;34m\u001b[0m\u001b[0m\n\u001b[0;32m-> 1026\u001b[0;31m         \u001b[0mself\u001b[0m\u001b[0;34m.\u001b[0m\u001b[0msend\u001b[0m\u001b[0;34m(\u001b[0m\u001b[0mmsg\u001b[0m\u001b[0;34m)\u001b[0m\u001b[0;34m\u001b[0m\u001b[0;34m\u001b[0m\u001b[0m\n\u001b[0m\u001b[1;32m   1027\u001b[0m \u001b[0;34m\u001b[0m\u001b[0m\n",
            "\u001b[0;32m/opt/conda/lib/python3.7/http/client.py\u001b[0m in \u001b[0;36msend\u001b[0;34m(self, data)\u001b[0m\n\u001b[1;32m    965\u001b[0m             \u001b[0;32mif\u001b[0m \u001b[0mself\u001b[0m\u001b[0;34m.\u001b[0m\u001b[0mauto_open\u001b[0m\u001b[0;34m:\u001b[0m\u001b[0;34m\u001b[0m\u001b[0;34m\u001b[0m\u001b[0m\n\u001b[0;32m--> 966\u001b[0;31m                 \u001b[0mself\u001b[0m\u001b[0;34m.\u001b[0m\u001b[0mconnect\u001b[0m\u001b[0;34m(\u001b[0m\u001b[0;34m)\u001b[0m\u001b[0;34m\u001b[0m\u001b[0;34m\u001b[0m\u001b[0m\n\u001b[0m\u001b[1;32m    967\u001b[0m             \u001b[0;32melse\u001b[0m\u001b[0;34m:\u001b[0m\u001b[0;34m\u001b[0m\u001b[0;34m\u001b[0m\u001b[0m\n",
            "\u001b[0;32m/opt/conda/lib/python3.7/http/client.py\u001b[0m in \u001b[0;36mconnect\u001b[0;34m(self)\u001b[0m\n\u001b[1;32m   1413\u001b[0m \u001b[0;34m\u001b[0m\u001b[0m\n\u001b[0;32m-> 1414\u001b[0;31m             \u001b[0msuper\u001b[0m\u001b[0;34m(\u001b[0m\u001b[0;34m)\u001b[0m\u001b[0;34m.\u001b[0m\u001b[0mconnect\u001b[0m\u001b[0;34m(\u001b[0m\u001b[0;34m)\u001b[0m\u001b[0;34m\u001b[0m\u001b[0;34m\u001b[0m\u001b[0m\n\u001b[0m\u001b[1;32m   1415\u001b[0m \u001b[0;34m\u001b[0m\u001b[0m\n",
            "\u001b[0;32m/opt/conda/lib/python3.7/http/client.py\u001b[0m in \u001b[0;36mconnect\u001b[0;34m(self)\u001b[0m\n\u001b[1;32m    937\u001b[0m         self.sock = self._create_connection(\n\u001b[0;32m--> 938\u001b[0;31m             (self.host,self.port), self.timeout, self.source_address)\n\u001b[0m\u001b[1;32m    939\u001b[0m         \u001b[0mself\u001b[0m\u001b[0;34m.\u001b[0m\u001b[0msock\u001b[0m\u001b[0;34m.\u001b[0m\u001b[0msetsockopt\u001b[0m\u001b[0;34m(\u001b[0m\u001b[0msocket\u001b[0m\u001b[0;34m.\u001b[0m\u001b[0mIPPROTO_TCP\u001b[0m\u001b[0;34m,\u001b[0m \u001b[0msocket\u001b[0m\u001b[0;34m.\u001b[0m\u001b[0mTCP_NODELAY\u001b[0m\u001b[0;34m,\u001b[0m \u001b[0;36m1\u001b[0m\u001b[0;34m)\u001b[0m\u001b[0;34m\u001b[0m\u001b[0;34m\u001b[0m\u001b[0m\n",
            "\u001b[0;32m/opt/conda/lib/python3.7/socket.py\u001b[0m in \u001b[0;36mcreate_connection\u001b[0;34m(address, timeout, source_address)\u001b[0m\n\u001b[1;32m    706\u001b[0m     \u001b[0merr\u001b[0m \u001b[0;34m=\u001b[0m \u001b[0;32mNone\u001b[0m\u001b[0;34m\u001b[0m\u001b[0;34m\u001b[0m\u001b[0m\n\u001b[0;32m--> 707\u001b[0;31m     \u001b[0;32mfor\u001b[0m \u001b[0mres\u001b[0m \u001b[0;32min\u001b[0m \u001b[0mgetaddrinfo\u001b[0m\u001b[0;34m(\u001b[0m\u001b[0mhost\u001b[0m\u001b[0;34m,\u001b[0m \u001b[0mport\u001b[0m\u001b[0;34m,\u001b[0m \u001b[0;36m0\u001b[0m\u001b[0;34m,\u001b[0m \u001b[0mSOCK_STREAM\u001b[0m\u001b[0;34m)\u001b[0m\u001b[0;34m:\u001b[0m\u001b[0;34m\u001b[0m\u001b[0;34m\u001b[0m\u001b[0m\n\u001b[0m\u001b[1;32m    708\u001b[0m         \u001b[0maf\u001b[0m\u001b[0;34m,\u001b[0m \u001b[0msocktype\u001b[0m\u001b[0;34m,\u001b[0m \u001b[0mproto\u001b[0m\u001b[0;34m,\u001b[0m \u001b[0mcanonname\u001b[0m\u001b[0;34m,\u001b[0m \u001b[0msa\u001b[0m \u001b[0;34m=\u001b[0m \u001b[0mres\u001b[0m\u001b[0;34m\u001b[0m\u001b[0;34m\u001b[0m\u001b[0m\n",
            "\u001b[0;32m/opt/conda/lib/python3.7/socket.py\u001b[0m in \u001b[0;36mgetaddrinfo\u001b[0;34m(host, port, family, type, proto, flags)\u001b[0m\n\u001b[1;32m    751\u001b[0m     \u001b[0maddrlist\u001b[0m \u001b[0;34m=\u001b[0m \u001b[0;34m[\u001b[0m\u001b[0;34m]\u001b[0m\u001b[0;34m\u001b[0m\u001b[0;34m\u001b[0m\u001b[0m\n\u001b[0;32m--> 752\u001b[0;31m     \u001b[0;32mfor\u001b[0m \u001b[0mres\u001b[0m \u001b[0;32min\u001b[0m \u001b[0m_socket\u001b[0m\u001b[0;34m.\u001b[0m\u001b[0mgetaddrinfo\u001b[0m\u001b[0;34m(\u001b[0m\u001b[0mhost\u001b[0m\u001b[0;34m,\u001b[0m \u001b[0mport\u001b[0m\u001b[0;34m,\u001b[0m \u001b[0mfamily\u001b[0m\u001b[0;34m,\u001b[0m \u001b[0mtype\u001b[0m\u001b[0;34m,\u001b[0m \u001b[0mproto\u001b[0m\u001b[0;34m,\u001b[0m \u001b[0mflags\u001b[0m\u001b[0;34m)\u001b[0m\u001b[0;34m:\u001b[0m\u001b[0;34m\u001b[0m\u001b[0;34m\u001b[0m\u001b[0m\n\u001b[0m\u001b[1;32m    753\u001b[0m         \u001b[0maf\u001b[0m\u001b[0;34m,\u001b[0m \u001b[0msocktype\u001b[0m\u001b[0;34m,\u001b[0m \u001b[0mproto\u001b[0m\u001b[0;34m,\u001b[0m \u001b[0mcanonname\u001b[0m\u001b[0;34m,\u001b[0m \u001b[0msa\u001b[0m \u001b[0;34m=\u001b[0m \u001b[0mres\u001b[0m\u001b[0;34m\u001b[0m\u001b[0;34m\u001b[0m\u001b[0m\n",
            "\u001b[0;31mgaierror\u001b[0m: [Errno -3] Temporary failure in name resolution",
            "\nDuring handling of the above exception, another exception occurred:\n",
            "\u001b[0;31mURLError\u001b[0m                                  Traceback (most recent call last)",
            "\u001b[0;32m<ipython-input-63-a32ec293d4e7>\u001b[0m in \u001b[0;36m<module>\u001b[0;34m\u001b[0m\n\u001b[0;32m----> 1\u001b[0;31m \u001b[0mresponse\u001b[0m \u001b[0;34m=\u001b[0m \u001b[0murlopen\u001b[0m\u001b[0;34m(\u001b[0m\u001b[0murl\u001b[0m\u001b[0;34m)\u001b[0m\u001b[0;34m\u001b[0m\u001b[0;34m\u001b[0m\u001b[0m\n\u001b[0m",
            "\u001b[0;32m/opt/conda/lib/python3.7/urllib/request.py\u001b[0m in \u001b[0;36murlopen\u001b[0;34m(url, data, timeout, cafile, capath, cadefault, context)\u001b[0m\n\u001b[1;32m    220\u001b[0m     \u001b[0;32melse\u001b[0m\u001b[0;34m:\u001b[0m\u001b[0;34m\u001b[0m\u001b[0;34m\u001b[0m\u001b[0m\n\u001b[1;32m    221\u001b[0m         \u001b[0mopener\u001b[0m \u001b[0;34m=\u001b[0m \u001b[0m_opener\u001b[0m\u001b[0;34m\u001b[0m\u001b[0;34m\u001b[0m\u001b[0m\n\u001b[0;32m--> 222\u001b[0;31m     \u001b[0;32mreturn\u001b[0m \u001b[0mopener\u001b[0m\u001b[0;34m.\u001b[0m\u001b[0mopen\u001b[0m\u001b[0;34m(\u001b[0m\u001b[0murl\u001b[0m\u001b[0;34m,\u001b[0m \u001b[0mdata\u001b[0m\u001b[0;34m,\u001b[0m \u001b[0mtimeout\u001b[0m\u001b[0;34m)\u001b[0m\u001b[0;34m\u001b[0m\u001b[0;34m\u001b[0m\u001b[0m\n\u001b[0m\u001b[1;32m    223\u001b[0m \u001b[0;34m\u001b[0m\u001b[0m\n\u001b[1;32m    224\u001b[0m \u001b[0;32mdef\u001b[0m \u001b[0minstall_opener\u001b[0m\u001b[0;34m(\u001b[0m\u001b[0mopener\u001b[0m\u001b[0;34m)\u001b[0m\u001b[0;34m:\u001b[0m\u001b[0;34m\u001b[0m\u001b[0;34m\u001b[0m\u001b[0m\n",
            "\u001b[0;32m/opt/conda/lib/python3.7/urllib/request.py\u001b[0m in \u001b[0;36mopen\u001b[0;34m(self, fullurl, data, timeout)\u001b[0m\n\u001b[1;32m    523\u001b[0m             \u001b[0mreq\u001b[0m \u001b[0;34m=\u001b[0m \u001b[0mmeth\u001b[0m\u001b[0;34m(\u001b[0m\u001b[0mreq\u001b[0m\u001b[0;34m)\u001b[0m\u001b[0;34m\u001b[0m\u001b[0;34m\u001b[0m\u001b[0m\n\u001b[1;32m    524\u001b[0m \u001b[0;34m\u001b[0m\u001b[0m\n\u001b[0;32m--> 525\u001b[0;31m         \u001b[0mresponse\u001b[0m \u001b[0;34m=\u001b[0m \u001b[0mself\u001b[0m\u001b[0;34m.\u001b[0m\u001b[0m_open\u001b[0m\u001b[0;34m(\u001b[0m\u001b[0mreq\u001b[0m\u001b[0;34m,\u001b[0m \u001b[0mdata\u001b[0m\u001b[0;34m)\u001b[0m\u001b[0;34m\u001b[0m\u001b[0;34m\u001b[0m\u001b[0m\n\u001b[0m\u001b[1;32m    526\u001b[0m \u001b[0;34m\u001b[0m\u001b[0m\n\u001b[1;32m    527\u001b[0m         \u001b[0;31m# post-process response\u001b[0m\u001b[0;34m\u001b[0m\u001b[0;34m\u001b[0m\u001b[0;34m\u001b[0m\u001b[0m\n",
            "\u001b[0;32m/opt/conda/lib/python3.7/urllib/request.py\u001b[0m in \u001b[0;36m_open\u001b[0;34m(self, req, data)\u001b[0m\n\u001b[1;32m    541\u001b[0m         \u001b[0mprotocol\u001b[0m \u001b[0;34m=\u001b[0m \u001b[0mreq\u001b[0m\u001b[0;34m.\u001b[0m\u001b[0mtype\u001b[0m\u001b[0;34m\u001b[0m\u001b[0;34m\u001b[0m\u001b[0m\n\u001b[1;32m    542\u001b[0m         result = self._call_chain(self.handle_open, protocol, protocol +\n\u001b[0;32m--> 543\u001b[0;31m                                   '_open', req)\n\u001b[0m\u001b[1;32m    544\u001b[0m         \u001b[0;32mif\u001b[0m \u001b[0mresult\u001b[0m\u001b[0;34m:\u001b[0m\u001b[0;34m\u001b[0m\u001b[0;34m\u001b[0m\u001b[0m\n\u001b[1;32m    545\u001b[0m             \u001b[0;32mreturn\u001b[0m \u001b[0mresult\u001b[0m\u001b[0;34m\u001b[0m\u001b[0;34m\u001b[0m\u001b[0m\n",
            "\u001b[0;32m/opt/conda/lib/python3.7/urllib/request.py\u001b[0m in \u001b[0;36m_call_chain\u001b[0;34m(self, chain, kind, meth_name, *args)\u001b[0m\n\u001b[1;32m    501\u001b[0m         \u001b[0;32mfor\u001b[0m \u001b[0mhandler\u001b[0m \u001b[0;32min\u001b[0m \u001b[0mhandlers\u001b[0m\u001b[0;34m:\u001b[0m\u001b[0;34m\u001b[0m\u001b[0;34m\u001b[0m\u001b[0m\n\u001b[1;32m    502\u001b[0m             \u001b[0mfunc\u001b[0m \u001b[0;34m=\u001b[0m \u001b[0mgetattr\u001b[0m\u001b[0;34m(\u001b[0m\u001b[0mhandler\u001b[0m\u001b[0;34m,\u001b[0m \u001b[0mmeth_name\u001b[0m\u001b[0;34m)\u001b[0m\u001b[0;34m\u001b[0m\u001b[0;34m\u001b[0m\u001b[0m\n\u001b[0;32m--> 503\u001b[0;31m             \u001b[0mresult\u001b[0m \u001b[0;34m=\u001b[0m \u001b[0mfunc\u001b[0m\u001b[0;34m(\u001b[0m\u001b[0;34m*\u001b[0m\u001b[0margs\u001b[0m\u001b[0;34m)\u001b[0m\u001b[0;34m\u001b[0m\u001b[0;34m\u001b[0m\u001b[0m\n\u001b[0m\u001b[1;32m    504\u001b[0m             \u001b[0;32mif\u001b[0m \u001b[0mresult\u001b[0m \u001b[0;32mis\u001b[0m \u001b[0;32mnot\u001b[0m \u001b[0;32mNone\u001b[0m\u001b[0;34m:\u001b[0m\u001b[0;34m\u001b[0m\u001b[0;34m\u001b[0m\u001b[0m\n\u001b[1;32m    505\u001b[0m                 \u001b[0;32mreturn\u001b[0m \u001b[0mresult\u001b[0m\u001b[0;34m\u001b[0m\u001b[0;34m\u001b[0m\u001b[0m\n",
            "\u001b[0;32m/opt/conda/lib/python3.7/urllib/request.py\u001b[0m in \u001b[0;36mhttps_open\u001b[0;34m(self, req)\u001b[0m\n\u001b[1;32m   1360\u001b[0m         \u001b[0;32mdef\u001b[0m \u001b[0mhttps_open\u001b[0m\u001b[0;34m(\u001b[0m\u001b[0mself\u001b[0m\u001b[0;34m,\u001b[0m \u001b[0mreq\u001b[0m\u001b[0;34m)\u001b[0m\u001b[0;34m:\u001b[0m\u001b[0;34m\u001b[0m\u001b[0;34m\u001b[0m\u001b[0m\n\u001b[1;32m   1361\u001b[0m             return self.do_open(http.client.HTTPSConnection, req,\n\u001b[0;32m-> 1362\u001b[0;31m                 context=self._context, check_hostname=self._check_hostname)\n\u001b[0m\u001b[1;32m   1363\u001b[0m \u001b[0;34m\u001b[0m\u001b[0m\n\u001b[1;32m   1364\u001b[0m         \u001b[0mhttps_request\u001b[0m \u001b[0;34m=\u001b[0m \u001b[0mAbstractHTTPHandler\u001b[0m\u001b[0;34m.\u001b[0m\u001b[0mdo_request_\u001b[0m\u001b[0;34m\u001b[0m\u001b[0;34m\u001b[0m\u001b[0m\n",
            "\u001b[0;32m/opt/conda/lib/python3.7/urllib/request.py\u001b[0m in \u001b[0;36mdo_open\u001b[0;34m(self, http_class, req, **http_conn_args)\u001b[0m\n\u001b[1;32m   1319\u001b[0m                           encode_chunked=req.has_header('Transfer-encoding'))\n\u001b[1;32m   1320\u001b[0m             \u001b[0;32mexcept\u001b[0m \u001b[0mOSError\u001b[0m \u001b[0;32mas\u001b[0m \u001b[0merr\u001b[0m\u001b[0;34m:\u001b[0m \u001b[0;31m# timeout error\u001b[0m\u001b[0;34m\u001b[0m\u001b[0;34m\u001b[0m\u001b[0m\n\u001b[0;32m-> 1321\u001b[0;31m                 \u001b[0;32mraise\u001b[0m \u001b[0mURLError\u001b[0m\u001b[0;34m(\u001b[0m\u001b[0merr\u001b[0m\u001b[0;34m)\u001b[0m\u001b[0;34m\u001b[0m\u001b[0;34m\u001b[0m\u001b[0m\n\u001b[0m\u001b[1;32m   1322\u001b[0m             \u001b[0mr\u001b[0m \u001b[0;34m=\u001b[0m \u001b[0mh\u001b[0m\u001b[0;34m.\u001b[0m\u001b[0mgetresponse\u001b[0m\u001b[0;34m(\u001b[0m\u001b[0;34m)\u001b[0m\u001b[0;34m\u001b[0m\u001b[0;34m\u001b[0m\u001b[0m\n\u001b[1;32m   1323\u001b[0m         \u001b[0;32mexcept\u001b[0m\u001b[0;34m:\u001b[0m\u001b[0;34m\u001b[0m\u001b[0;34m\u001b[0m\u001b[0m\n",
            "\u001b[0;31mURLError\u001b[0m: <urlopen error [Errno -3] Temporary failure in name resolution>"
          ]
        }
      ]
    },
    {
      "cell_type": "code",
      "metadata": {
        "execution": {
          "iopub.execute_input": "2021-02-23T22:52:07.817249Z",
          "iopub.status.busy": "2021-02-23T22:52:07.813486Z",
          "iopub.status.idle": "2021-02-23T22:52:07.825766Z",
          "shell.execute_reply": "2021-02-23T22:52:07.826240Z"
        },
        "papermill": {
          "duration": 0.098402,
          "end_time": "2021-02-23T22:52:07.826397",
          "exception": false,
          "start_time": "2021-02-23T22:52:07.727995",
          "status": "completed"
        },
        "tags": [],
        "id": "qakBIAxvhLDx",
        "outputId": "090f3f8f-bbe7-456c-de2e-6b25bee91c26"
      },
      "source": [
        "html_ocean_ws = response.read()"
      ],
      "execution_count": null,
      "outputs": [
        {
          "output_type": "error",
          "ename": "NameError",
          "evalue": "name 'response' is not defined",
          "traceback": [
            "\u001b[0;31m---------------------------------------------------------------------------\u001b[0m",
            "\u001b[0;31mNameError\u001b[0m                                 Traceback (most recent call last)",
            "\u001b[0;32m<ipython-input-64-01e7cb26ddac>\u001b[0m in \u001b[0;36m<module>\u001b[0;34m\u001b[0m\n\u001b[0;32m----> 1\u001b[0;31m \u001b[0mhtml_ocean_ws\u001b[0m \u001b[0;34m=\u001b[0m \u001b[0mresponse\u001b[0m\u001b[0;34m.\u001b[0m\u001b[0mread\u001b[0m\u001b[0;34m(\u001b[0m\u001b[0;34m)\u001b[0m\u001b[0;34m\u001b[0m\u001b[0;34m\u001b[0m\u001b[0m\n\u001b[0m",
            "\u001b[0;31mNameError\u001b[0m: name 'response' is not defined"
          ]
        }
      ]
    },
    {
      "cell_type": "code",
      "metadata": {
        "execution": {
          "iopub.execute_input": "2021-02-23T22:52:07.999936Z",
          "iopub.status.busy": "2021-02-23T22:52:07.998875Z",
          "iopub.status.idle": "2021-02-23T22:52:08.002669Z",
          "shell.execute_reply": "2021-02-23T22:52:08.003132Z"
        },
        "papermill": {
          "duration": 0.096371,
          "end_time": "2021-02-23T22:52:08.003274",
          "exception": false,
          "start_time": "2021-02-23T22:52:07.906903",
          "status": "completed"
        },
        "tags": [],
        "id": "MUtfeLlwhLDy",
        "outputId": "9884b104-959f-4fdd-cc50-c88b1960f46b"
      },
      "source": [
        "html_ocean_ws"
      ],
      "execution_count": null,
      "outputs": [
        {
          "output_type": "error",
          "ename": "NameError",
          "evalue": "name 'html_ocean_ws' is not defined",
          "traceback": [
            "\u001b[0;31m---------------------------------------------------------------------------\u001b[0m",
            "\u001b[0;31mNameError\u001b[0m                                 Traceback (most recent call last)",
            "\u001b[0;32m<ipython-input-65-3a7416223d88>\u001b[0m in \u001b[0;36m<module>\u001b[0;34m\u001b[0m\n\u001b[0;32m----> 1\u001b[0;31m \u001b[0mhtml_ocean_ws\u001b[0m\u001b[0;34m\u001b[0m\u001b[0;34m\u001b[0m\u001b[0m\n\u001b[0m",
            "\u001b[0;31mNameError\u001b[0m: name 'html_ocean_ws' is not defined"
          ]
        }
      ]
    },
    {
      "cell_type": "code",
      "metadata": {
        "execution": {
          "iopub.execute_input": "2021-02-23T22:52:08.178096Z",
          "iopub.status.busy": "2021-02-23T22:52:08.177057Z",
          "iopub.status.idle": "2021-02-23T22:52:08.181564Z",
          "shell.execute_reply": "2021-02-23T22:52:08.180886Z"
        },
        "papermill": {
          "duration": 0.096701,
          "end_time": "2021-02-23T22:52:08.181674",
          "exception": false,
          "start_time": "2021-02-23T22:52:08.084973",
          "status": "completed"
        },
        "tags": [],
        "id": "WlZUqlhPhLDz",
        "outputId": "5e02f411-7fb1-451d-b055-109ff3305905"
      },
      "source": [
        "soup_ocean_ws = BeautifulSoup(html_ocean_ws, 'html.parser')"
      ],
      "execution_count": null,
      "outputs": [
        {
          "output_type": "error",
          "ename": "NameError",
          "evalue": "name 'html_ocean_ws' is not defined",
          "traceback": [
            "\u001b[0;31m---------------------------------------------------------------------------\u001b[0m",
            "\u001b[0;31mNameError\u001b[0m                                 Traceback (most recent call last)",
            "\u001b[0;32m<ipython-input-66-a65aa3a8d524>\u001b[0m in \u001b[0;36m<module>\u001b[0;34m\u001b[0m\n\u001b[0;32m----> 1\u001b[0;31m \u001b[0msoup_ocean_ws\u001b[0m \u001b[0;34m=\u001b[0m \u001b[0mBeautifulSoup\u001b[0m\u001b[0;34m(\u001b[0m\u001b[0mhtml_ocean_ws\u001b[0m\u001b[0;34m,\u001b[0m \u001b[0;34m'html.parser'\u001b[0m\u001b[0;34m)\u001b[0m\u001b[0;34m\u001b[0m\u001b[0;34m\u001b[0m\u001b[0m\n\u001b[0m",
            "\u001b[0;31mNameError\u001b[0m: name 'html_ocean_ws' is not defined"
          ]
        }
      ]
    },
    {
      "cell_type": "code",
      "metadata": {
        "execution": {
          "iopub.execute_input": "2021-02-23T22:52:08.364085Z",
          "iopub.status.busy": "2021-02-23T22:52:08.363146Z",
          "iopub.status.idle": "2021-02-23T22:52:08.370038Z",
          "shell.execute_reply": "2021-02-23T22:52:08.370570Z"
        },
        "papermill": {
          "duration": 0.107733,
          "end_time": "2021-02-23T22:52:08.370712",
          "exception": false,
          "start_time": "2021-02-23T22:52:08.262979",
          "status": "completed"
        },
        "tags": [],
        "id": "iBx321RNhLDz",
        "outputId": "eae5ee2e-d10d-4910-a216-ebc317f59733"
      },
      "source": [
        "soup_ocean_ws"
      ],
      "execution_count": null,
      "outputs": [
        {
          "output_type": "error",
          "ename": "NameError",
          "evalue": "name 'soup_ocean_ws' is not defined",
          "traceback": [
            "\u001b[0;31m---------------------------------------------------------------------------\u001b[0m",
            "\u001b[0;31mNameError\u001b[0m                                 Traceback (most recent call last)",
            "\u001b[0;32m<ipython-input-67-6bd481cfc418>\u001b[0m in \u001b[0;36m<module>\u001b[0;34m\u001b[0m\n\u001b[0;32m----> 1\u001b[0;31m \u001b[0msoup_ocean_ws\u001b[0m\u001b[0;34m\u001b[0m\u001b[0;34m\u001b[0m\u001b[0m\n\u001b[0m",
            "\u001b[0;31mNameError\u001b[0m: name 'soup_ocean_ws' is not defined"
          ]
        }
      ]
    },
    {
      "cell_type": "code",
      "metadata": {
        "execution": {
          "iopub.execute_input": "2021-02-23T22:52:08.546293Z",
          "iopub.status.busy": "2021-02-23T22:52:08.545366Z",
          "iopub.status.idle": "2021-02-23T22:52:08.550261Z",
          "shell.execute_reply": "2021-02-23T22:52:08.549700Z"
        },
        "papermill": {
          "duration": 0.098147,
          "end_time": "2021-02-23T22:52:08.550388",
          "exception": false,
          "start_time": "2021-02-23T22:52:08.452241",
          "status": "completed"
        },
        "tags": [],
        "id": "66aVSfkAhLDz",
        "outputId": "ba4942f9-00a2-40e4-bf5f-67f50ea16ee5"
      },
      "source": [
        "print(soup_ocean_ws.prettify())"
      ],
      "execution_count": null,
      "outputs": [
        {
          "output_type": "error",
          "ename": "NameError",
          "evalue": "name 'soup_ocean_ws' is not defined",
          "traceback": [
            "\u001b[0;31m---------------------------------------------------------------------------\u001b[0m",
            "\u001b[0;31mNameError\u001b[0m                                 Traceback (most recent call last)",
            "\u001b[0;32m<ipython-input-68-d5ff0e2c80a7>\u001b[0m in \u001b[0;36m<module>\u001b[0;34m\u001b[0m\n\u001b[0;32m----> 1\u001b[0;31m \u001b[0mprint\u001b[0m\u001b[0;34m(\u001b[0m\u001b[0msoup_ocean_ws\u001b[0m\u001b[0;34m.\u001b[0m\u001b[0mprettify\u001b[0m\u001b[0;34m(\u001b[0m\u001b[0;34m)\u001b[0m\u001b[0;34m)\u001b[0m\u001b[0;34m\u001b[0m\u001b[0;34m\u001b[0m\u001b[0m\n\u001b[0m",
            "\u001b[0;31mNameError\u001b[0m: name 'soup_ocean_ws' is not defined"
          ]
        }
      ]
    },
    {
      "cell_type": "markdown",
      "metadata": {
        "papermill": {
          "duration": 0.084455,
          "end_time": "2021-02-23T22:52:08.717928",
          "exception": false,
          "start_time": "2021-02-23T22:52:08.633473",
          "status": "completed"
        },
        "tags": [],
        "id": "ROgobVfPhLD0"
      },
      "source": [
        "### Mini-desafio 3: complete a lista de desafios da página 'Sobre'\n",
        "\n",
        "\n",
        "* https://ocean-web-scraping.herokuapp.com/sobre.html"
      ]
    },
    {
      "cell_type": "code",
      "metadata": {
        "execution": {
          "iopub.execute_input": "2021-02-23T22:52:08.891159Z",
          "iopub.status.busy": "2021-02-23T22:52:08.890466Z",
          "iopub.status.idle": "2021-02-23T22:52:08.892592Z",
          "shell.execute_reply": "2021-02-23T22:52:08.893097Z"
        },
        "papermill": {
          "duration": 0.089353,
          "end_time": "2021-02-23T22:52:08.893231",
          "exception": false,
          "start_time": "2021-02-23T22:52:08.803878",
          "status": "completed"
        },
        "tags": [],
        "id": "4a0HW9cqhLD2"
      },
      "source": [
        "# Insira a sua resposta aqui"
      ],
      "execution_count": null,
      "outputs": []
    }
  ]
}