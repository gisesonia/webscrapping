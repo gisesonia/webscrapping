{
  "nbformat": 4,
  "nbformat_minor": 0,
  "metadata": {
    "kernelspec": {
      "language": "python",
      "display_name": "Python 3",
      "name": "python3"
    },
    "language_info": {
      "pygments_lexer": "ipython3",
      "nbconvert_exporter": "python",
      "version": "3.6.4",
      "file_extension": ".py",
      "codemirror_mode": {
        "name": "ipython",
        "version": 3
      },
      "name": "python",
      "mimetype": "text/x-python"
    },
    "colab": {
      "name": "web-scraping-com-python-parte-2.ipynb",
      "provenance": [],
      "include_colab_link": true
    }
  },
  "cells": [
    {
      "cell_type": "markdown",
      "metadata": {
        "id": "view-in-github",
        "colab_type": "text"
      },
      "source": [
        "<a href=\"https://colab.research.google.com/github/gisesonia/webscrapping/blob/main/web_scraping_com_python_parte_2.ipynb\" target=\"_parent\"><img src=\"https://colab.research.google.com/assets/colab-badge.svg\" alt=\"Open In Colab\"/></a>"
      ]
    },
    {
      "cell_type": "markdown",
      "metadata": {
        "id": "B8NDer3cgaDX"
      },
      "source": [
        "# Web Scraping com Python (Parte 2)\n",
        "\n",
        "## Resumo\n",
        "\n",
        "Neste notebook, iremos explorar e coletar dados do site [Oceano de Aluguéis](https://ocean-web-scraping.herokuapp.com/) utilizando a biblioteca [Beautiful Soup](https://www.crummy.com/software/BeautifulSoup/bs4/doc/). Em seguida, iremos analisar todas as informações coletadas.\n",
        "\n",
        "## Para saber mais:\n",
        "\n",
        "* Palestras e cursos do [Samsung Ocean](http://www.oceanbrasil.com/).\n",
        "* Ryan Mitchell. Web Scraping com Python: Coletando Mais Dados da Web Moderna. Novatec Editora, 2019."
      ]
    },
    {
      "cell_type": "markdown",
      "metadata": {
        "id": "Tqb5m0T9gaEA"
      },
      "source": [
        "## 1) Criando os objetos Beautiful Soup"
      ]
    },
    {
      "cell_type": "code",
      "metadata": {
        "trusted": true,
        "id": "MuWp0oS1gaEE"
      },
      "source": [
        "from bs4 import BeautifulSoup\n",
        "from urllib.request import urlopen"
      ],
      "execution_count": null,
      "outputs": []
    },
    {
      "cell_type": "code",
      "metadata": {
        "trusted": true,
        "id": "TiWHhz3sgaET"
      },
      "source": [
        "url_sobre = 'https://ocean-web-scraping.herokuapp.com/sobre.html'\n",
        "url_busca = 'https://ocean-web-scraping.herokuapp.com/'\n",
        "url_corretoras = 'https://ocean-web-scraping.herokuapp.com/corretoras.html'"
      ],
      "execution_count": null,
      "outputs": []
    },
    {
      "cell_type": "markdown",
      "metadata": {
        "id": "Relb-OrAgaEW"
      },
      "source": [
        "### 1.1) Página 'Sobre'"
      ]
    },
    {
      "cell_type": "code",
      "metadata": {
        "_uuid": "d629ff2d2480ee46fbb7e2d37f6b5fab8052498a",
        "_cell_guid": "79c7e3d0-c299-4dcb-8224-4455121ee9b0",
        "trusted": true,
        "id": "UgNcuCUxgaEX"
      },
      "source": [
        "response_sobre = urlopen(url_sobre)\n",
        "html_sobre = response_sobre.read()\n",
        "html_sobre"
      ],
      "execution_count": null,
      "outputs": []
    },
    {
      "cell_type": "code",
      "metadata": {
        "trusted": true,
        "id": "N0-KGglMgaEZ"
      },
      "source": [
        "soup_sobre = BeautifulSoup(html_sobre, 'html.parser')\n",
        "soup_sobre"
      ],
      "execution_count": null,
      "outputs": []
    },
    {
      "cell_type": "markdown",
      "metadata": {
        "id": "ku8boe38gaEe"
      },
      "source": [
        "### 1.2) Página de resultados da busca por imóveis"
      ]
    },
    {
      "cell_type": "code",
      "metadata": {
        "trusted": true,
        "id": "Q357XTVrgaEg"
      },
      "source": [
        "response_busca = urlopen(url_busca)\n",
        "html_busca = response_busca.read()\n",
        "html_busca"
      ],
      "execution_count": null,
      "outputs": []
    },
    {
      "cell_type": "code",
      "metadata": {
        "trusted": true,
        "id": "Hz3skZAdgaEh"
      },
      "source": [
        "soup_busca = BeautifulSoup(html_busca, 'html.parser')\n",
        "soup_busca"
      ],
      "execution_count": null,
      "outputs": []
    },
    {
      "cell_type": "markdown",
      "metadata": {
        "id": "URJCfE4ygaEj"
      },
      "source": [
        "### 1.3) Página de contatos das corretoras"
      ]
    },
    {
      "cell_type": "code",
      "metadata": {
        "trusted": true,
        "id": "3Fxt0EWtgaEl"
      },
      "source": [
        "response_corretoras = urlopen(url_corretoras)\n",
        "html_corretoras = response_corretoras.read()\n",
        "html_corretoras"
      ],
      "execution_count": null,
      "outputs": []
    },
    {
      "cell_type": "code",
      "metadata": {
        "trusted": true,
        "id": "_CvrErSkgaEm"
      },
      "source": [
        "soup_corretoras = BeautifulSoup(html_corretoras, 'html.parser')\n",
        "soup_corretoras"
      ],
      "execution_count": null,
      "outputs": []
    },
    {
      "cell_type": "markdown",
      "metadata": {
        "id": "xgfOiRJ9gaEn"
      },
      "source": [
        "## 2) Lista de desafios da página 'Sobre'"
      ]
    },
    {
      "cell_type": "markdown",
      "metadata": {
        "id": "UmD_AuqIgaEn"
      },
      "source": [
        "### 2.1) Desafio 1: que tal coletar o texto 'Sobre este site' para começar?"
      ]
    },
    {
      "cell_type": "code",
      "metadata": {
        "trusted": true,
        "id": "ZQ8UwKEkgaEo"
      },
      "source": [
        "soup_sobre.find('div', {'class': 'about'}).find('h2').get_text()"
      ],
      "execution_count": null,
      "outputs": []
    },
    {
      "cell_type": "markdown",
      "metadata": {
        "id": "trd4lWNdgaEp"
      },
      "source": [
        "### 2.2) Desafio 2: agora extraia o link contido na palavra 'Ocean'."
      ]
    },
    {
      "cell_type": "code",
      "metadata": {
        "trusted": true,
        "id": "-Xk0LaE0gaEq"
      },
      "source": [
        "soup_sobre.find('div', {'class': 'about'}).find('a').get('href')"
      ],
      "execution_count": null,
      "outputs": []
    },
    {
      "cell_type": "markdown",
      "metadata": {
        "id": "RKkpAhD5gaEq"
      },
      "source": [
        "### 2.3) Desafio 3: Em seguida, colete todos os itens desta lista."
      ]
    },
    {
      "cell_type": "code",
      "metadata": {
        "trusted": true,
        "id": "IHO06MPAgaEs"
      },
      "source": [
        "soup_sobre.find('div', {'class': 'about'}).find('ol').find_all('li')"
      ],
      "execution_count": null,
      "outputs": []
    },
    {
      "cell_type": "code",
      "metadata": {
        "trusted": true,
        "id": "6YoTkz-OgaEu"
      },
      "source": [
        "for item in soup_sobre.find('div', {'class': 'about'}).find('ol').find_all('li'):\n",
        "    print(item.get_text())"
      ],
      "execution_count": null,
      "outputs": []
    },
    {
      "cell_type": "markdown",
      "metadata": {
        "id": "OUAwYT9ZgaEv"
      },
      "source": [
        "### 2.4) Desafio 4: por fim, colete apenas este último item da lista."
      ]
    },
    {
      "cell_type": "code",
      "metadata": {
        "trusted": true,
        "id": "XeCGutRLgaEw"
      },
      "source": [
        "soup_sobre.find('div', {'class': 'about'}).find('ol').find_all('li')[-1].get_text()"
      ],
      "execution_count": null,
      "outputs": []
    },
    {
      "cell_type": "markdown",
      "metadata": {
        "id": "oTGTMzhogaEy"
      },
      "source": [
        "## 3) Coletando a lista de resultados da busca por imóveis"
      ]
    },
    {
      "cell_type": "code",
      "metadata": {
        "trusted": true,
        "id": "2S4FbC2KgaEz"
      },
      "source": [
        "import pandas as pd"
      ],
      "execution_count": null,
      "outputs": []
    },
    {
      "cell_type": "markdown",
      "metadata": {
        "id": "2wl-s_n3gaE1"
      },
      "source": [
        "### 3.1) Coletando apenas o primeiro item da lista"
      ]
    },
    {
      "cell_type": "code",
      "metadata": {
        "trusted": true,
        "id": "j0mNNmVAgaE2"
      },
      "source": [
        "soup_busca.find('div', {'class': 'ad-card'})"
      ],
      "execution_count": null,
      "outputs": []
    },
    {
      "cell_type": "markdown",
      "metadata": {
        "id": "IRVFw1SpgaE2"
      },
      "source": [
        "#### 3.1.1) Coletando as características"
      ]
    },
    {
      "cell_type": "code",
      "metadata": {
        "trusted": true,
        "id": "UL-lRk4mgaE2"
      },
      "source": [
        "soup_busca.find('ul', {'class': 'features'})"
      ],
      "execution_count": null,
      "outputs": []
    },
    {
      "cell_type": "code",
      "metadata": {
        "trusted": true,
        "id": "eueqvnjcgaE3"
      },
      "source": [
        "soup_busca.find('ul', {'class': 'features'}).find_all('li')"
      ],
      "execution_count": null,
      "outputs": []
    },
    {
      "cell_type": "code",
      "metadata": {
        "trusted": true,
        "id": "rtQgb4MagaE4"
      },
      "source": [
        "for caracteristica in soup_busca.find('ul', {'class': 'features'}).find_all('li'):\n",
        "    print(caracteristica.get_text())"
      ],
      "execution_count": null,
      "outputs": []
    },
    {
      "cell_type": "markdown",
      "metadata": {
        "id": "1WYV9FJwgaE4"
      },
      "source": [
        "#### 3.1.2) Coletando os recursos"
      ]
    },
    {
      "cell_type": "code",
      "metadata": {
        "trusted": true,
        "id": "chkg3HNDgaE5"
      },
      "source": [
        "soup_busca.find('ul', {'class': 'resources'})"
      ],
      "execution_count": null,
      "outputs": []
    },
    {
      "cell_type": "code",
      "metadata": {
        "trusted": true,
        "id": "swjpKaKsgaE5"
      },
      "source": [
        "soup_busca.find('ul', {'class': 'resources'}).find_all('li')"
      ],
      "execution_count": null,
      "outputs": []
    },
    {
      "cell_type": "code",
      "metadata": {
        "trusted": true,
        "id": "A_HQ-uMggaE6"
      },
      "source": [
        "for recurso in soup_busca.find('ul', {'class': 'resources'}).find_all('li'):\n",
        "    print(recurso.get_text())"
      ],
      "execution_count": null,
      "outputs": []
    },
    {
      "cell_type": "markdown",
      "metadata": {
        "id": "ErKVNy0DgaE6"
      },
      "source": [
        "#### 3.1.3) Coletando todos os valores (aluguel, condomínio e IPTU)"
      ]
    },
    {
      "cell_type": "code",
      "metadata": {
        "trusted": true,
        "id": "2UqHcxQngaE6"
      },
      "source": [
        "soup_busca.find('div', {'class': 'ad-card-price'})"
      ],
      "execution_count": null,
      "outputs": []
    },
    {
      "cell_type": "code",
      "metadata": {
        "trusted": true,
        "id": "LkwgGuKWgaE_"
      },
      "source": [
        "soup_busca.find('div', {'class': 'ad-card-price'}).find_all('p')"
      ],
      "execution_count": null,
      "outputs": []
    },
    {
      "cell_type": "code",
      "metadata": {
        "trusted": true,
        "id": "Pk0zBwgLgaFA"
      },
      "source": [
        "soup_busca.find('div', {'class': 'ad-card-price'}).find_all('p')[:-1]"
      ],
      "execution_count": null,
      "outputs": []
    },
    {
      "cell_type": "code",
      "metadata": {
        "trusted": true,
        "id": "WiHdqnU4gaFB"
      },
      "source": [
        "for precos in soup_busca.find('div', {'class': 'ad-card-price'}).find_all('p')[:-1]:\n",
        "    print(precos.get_text())"
      ],
      "execution_count": null,
      "outputs": []
    },
    {
      "cell_type": "markdown",
      "metadata": {
        "id": "wudmCNAcgaFD"
      },
      "source": [
        "#### 3.1.4) Coletando a corretora"
      ]
    },
    {
      "cell_type": "code",
      "metadata": {
        "trusted": true,
        "id": "97d8ExWMgaFD"
      },
      "source": [
        "soup_busca.find('div', {'class': 'ad-card-price'})"
      ],
      "execution_count": null,
      "outputs": []
    },
    {
      "cell_type": "code",
      "metadata": {
        "trusted": true,
        "id": "rR6fa4L7gaFE"
      },
      "source": [
        "soup_busca.find('div', {'class': 'ad-card-price'}).find_all('p')"
      ],
      "execution_count": null,
      "outputs": []
    },
    {
      "cell_type": "code",
      "metadata": {
        "trusted": true,
        "id": "iYrqKAzZgaFE"
      },
      "source": [
        "soup_busca.find('div', {'class': 'ad-card-price'}).find_all('p')[-1]"
      ],
      "execution_count": null,
      "outputs": []
    },
    {
      "cell_type": "code",
      "metadata": {
        "trusted": true,
        "id": "Aw0D8b8GgaFG"
      },
      "source": [
        "soup_busca.find('div', {'class': 'ad-card-price'}).find_all('p')[-1].get_text()"
      ],
      "execution_count": null,
      "outputs": []
    },
    {
      "cell_type": "markdown",
      "metadata": {
        "id": "Ze1-I0wHgaFG"
      },
      "source": [
        "#### 3.1.5) Coletando a localização"
      ]
    },
    {
      "cell_type": "code",
      "metadata": {
        "trusted": true,
        "id": "tbYtkxARgaFG"
      },
      "source": [
        "soup_busca.find('div', {'class': 'ad-card-info'})"
      ],
      "execution_count": null,
      "outputs": []
    },
    {
      "cell_type": "code",
      "metadata": {
        "trusted": true,
        "id": "qyjByHlFgaFG"
      },
      "source": [
        "soup_busca.find('div', {'class': 'ad-card-info'}).find('p')"
      ],
      "execution_count": null,
      "outputs": []
    },
    {
      "cell_type": "code",
      "metadata": {
        "trusted": true,
        "id": "8oIvzvblgaFI"
      },
      "source": [
        "soup_busca.find('div', {'class': 'ad-card-info'}).find('p').get_text()"
      ],
      "execution_count": null,
      "outputs": []
    },
    {
      "cell_type": "markdown",
      "metadata": {
        "id": "7m_0nZdPgaFI"
      },
      "source": [
        "### 3.2) Coletando todos os itens da primeira página"
      ]
    },
    {
      "cell_type": "code",
      "metadata": {
        "trusted": true,
        "id": "Mxp5bOXVgaFL"
      },
      "source": [
        "soup_busca.find('div', {'class': 'ad-card-list'})"
      ],
      "execution_count": null,
      "outputs": []
    },
    {
      "cell_type": "code",
      "metadata": {
        "trusted": true,
        "id": "Hl7CX6L_gaFN"
      },
      "source": [
        "soup_busca.find('div', {'class': 'ad-card-list'}).find_all('div', {'class': 'ad-card'})"
      ],
      "execution_count": null,
      "outputs": []
    },
    {
      "cell_type": "code",
      "metadata": {
        "trusted": true,
        "id": "4oTRuiwogaFO"
      },
      "source": [
        "for resultado in soup_busca.find('div', {'class': 'ad-card-list'}).find_all('div', {'class': 'ad-card'}):\n",
        "    print(resultado)\n",
        "    print('-------------')"
      ],
      "execution_count": null,
      "outputs": []
    },
    {
      "cell_type": "code",
      "metadata": {
        "trusted": true,
        "id": "GL5UyNo7gaFP"
      },
      "source": [
        "for resultado in soup_busca.find('div', {'class': 'ad-card-list'}).find_all('div', {'class': 'ad-card'}):\n",
        "    caracteristicas = resultado.find('ul', {'class': 'features'})\n",
        "    print(caracteristicas)\n",
        "    print('-------------')"
      ],
      "execution_count": null,
      "outputs": []
    },
    {
      "cell_type": "code",
      "metadata": {
        "trusted": true,
        "id": "AwFmSVjrgaFQ"
      },
      "source": [
        "for resultado in soup_busca.find('div', {'class': 'ad-card-list'}).find_all('div', {'class': 'ad-card'}):\n",
        "    caracteristicas = resultado.find('ul', {'class': 'features'})\n",
        "    \n",
        "    for caract in caracteristicas.find_all('li'):\n",
        "        print(caract.get_text())\n",
        "    \n",
        "    print('-------------')"
      ],
      "execution_count": null,
      "outputs": []
    },
    {
      "cell_type": "code",
      "metadata": {
        "trusted": true,
        "id": "Ic3pB8icgaFR"
      },
      "source": [
        "for resultado in soup_busca.find('div', {'class': 'ad-card-list'}).find_all('div', {'class': 'ad-card'}):\n",
        "    caracteristicas = resultado.find('ul', {'class': 'features'})\n",
        "    recursos = resultado.find('ul', {'class': 'resources'})\n",
        "    \n",
        "    for caract in caracteristicas.find_all('li'):\n",
        "        print(caract.get_text())\n",
        "        \n",
        "    for recur in recursos.find_all('li'):\n",
        "        print(recur.get_text())\n",
        "        \n",
        "    print('-------------')"
      ],
      "execution_count": null,
      "outputs": []
    },
    {
      "cell_type": "code",
      "metadata": {
        "trusted": true,
        "id": "-O-OczZggaFS"
      },
      "source": [
        "for resultado in soup_busca.find('div', {'class': 'ad-card-list'}).find_all('div', {'class': 'ad-card'}):\n",
        "    caracteristicas = resultado.find('ul', {'class': 'features'})\n",
        "    recursos = resultado.find('ul', {'class': 'resources'})\n",
        "    precos_corretora = resultado.find('div', {'class': 'ad-card-price'})\n",
        "    \n",
        "    for caract in caracteristicas.find_all('li'):\n",
        "        print(caract.get_text())\n",
        "        \n",
        "    for recur in recursos.find_all('li'):\n",
        "        print(recur.get_text())\n",
        "        \n",
        "    for prec_corr in precos_corretora.find_all('p'):\n",
        "        print(prec_corr.get_text())\n",
        "        \n",
        "    print('-------------')"
      ],
      "execution_count": null,
      "outputs": []
    },
    {
      "cell_type": "code",
      "metadata": {
        "trusted": true,
        "id": "J-mXdctjgaFS"
      },
      "source": [
        "for resultado in soup_busca.find('div', {'class': 'ad-card-list'}).find_all('div', {'class': 'ad-card'}):\n",
        "    caracteristicas = resultado.find('ul', {'class': 'features'})\n",
        "    recursos = resultado.find('ul', {'class': 'resources'})\n",
        "    precos_corretora = resultado.find('div', {'class': 'ad-card-price'})\n",
        "    localizacao = resultado.find('div', {'class': 'ad-card-info'}).find('p')\n",
        "    \n",
        "    for caract in caracteristicas.find_all('li'):\n",
        "        print(caract.get_text())\n",
        "        \n",
        "    for recur in recursos.find_all('li'):\n",
        "        print(recur.get_text())\n",
        "        \n",
        "    for prec_corr in precos_corretora.find_all('p'):\n",
        "        print(prec_corr.get_text())\n",
        "    \n",
        "    print(localizacao.get_text())\n",
        "        \n",
        "    print('-------------')"
      ],
      "execution_count": null,
      "outputs": []
    },
    {
      "cell_type": "markdown",
      "metadata": {
        "id": "jwT8JtQRgaFT"
      },
      "source": [
        "#### 3.2.1) Persistindo os dados coletados em um DataFrame (tentativa 1)"
      ]
    },
    {
      "cell_type": "code",
      "metadata": {
        "trusted": true,
        "id": "mNBWvH3BgaFT"
      },
      "source": [
        "resutados_lista = []"
      ],
      "execution_count": null,
      "outputs": []
    },
    {
      "cell_type": "code",
      "metadata": {
        "trusted": true,
        "id": "ZGLIhVX5gaFU"
      },
      "source": [
        "for resultado in soup_busca.find('div', {'class': 'ad-card-list'}).find_all('div', {'class': 'ad-card'}):\n",
        "    caracteristicas = resultado.find('ul', {'class': 'features'})\n",
        "    recursos = resultado.find('ul', {'class': 'resources'})\n",
        "    precos_corretora = resultado.find('div', {'class': 'ad-card-price'})\n",
        "    localizacao = resultado.find('div', {'class': 'ad-card-info'}).find('p')\n",
        "    \n",
        "    resutado_dict = {}\n",
        "    \n",
        "    resutado_dict['área'] = caracteristicas.find_all('li')[0].get_text()\n",
        "    resutado_dict['quartos'] = caracteristicas.find_all('li')[1].get_text()\n",
        "    resutado_dict['banheiros'] = caracteristicas.find_all('li')[2].get_text()\n",
        "    resutado_dict['vagas garagem'] = caracteristicas.find_all('li')[3].get_text()\n",
        "    \n",
        "    for recur in recursos.find_all('li'):\n",
        "        resutado_dict[recur.get_text().lower()] = 'sim'\n",
        "        \n",
        "    resutado_dict['aluguel'] = precos_corretora.find_all('p')[0].get_text()\n",
        "    resutado_dict['condomínio'] = precos_corretora.find_all('p')[1].get_text()\n",
        "    resutado_dict['iptu'] = precos_corretora.find_all('p')[2].get_text()\n",
        "    resutado_dict['corretora'] = precos_corretora.find_all('p')[3].get_text()\n",
        "    \n",
        "    resutado_dict['localizacao'] = localizacao.get_text()\n",
        "    \n",
        "    resutados_lista.append(resutado_dict)"
      ],
      "execution_count": null,
      "outputs": []
    },
    {
      "cell_type": "code",
      "metadata": {
        "trusted": true,
        "id": "3K_3xBm1gaFV"
      },
      "source": [
        "resutados_lista"
      ],
      "execution_count": null,
      "outputs": []
    },
    {
      "cell_type": "code",
      "metadata": {
        "trusted": true,
        "id": "rpQTGKZEgaFV"
      },
      "source": [
        "resultados_df = pd.DataFrame(resutados_lista)"
      ],
      "execution_count": null,
      "outputs": []
    },
    {
      "cell_type": "code",
      "metadata": {
        "trusted": true,
        "id": "Kjd0d5pTgaFV"
      },
      "source": [
        "resultados_df"
      ],
      "execution_count": null,
      "outputs": []
    },
    {
      "cell_type": "code",
      "metadata": {
        "trusted": true,
        "id": "Ank7u_u1gaFW"
      },
      "source": [
        "resultados_df.dtypes"
      ],
      "execution_count": null,
      "outputs": []
    },
    {
      "cell_type": "markdown",
      "metadata": {
        "id": "V8uFjuXygaFX"
      },
      "source": [
        "#### 3.2.2) Persistindo os dados coletados em um DataFrame (tentativa 2)"
      ]
    },
    {
      "cell_type": "code",
      "metadata": {
        "trusted": true,
        "id": "wYSksmyAgaFX"
      },
      "source": [
        "resutados_lista = []"
      ],
      "execution_count": null,
      "outputs": []
    },
    {
      "cell_type": "code",
      "metadata": {
        "trusted": true,
        "id": "ZOlWIXY4gaFX"
      },
      "source": [
        "for resultado in soup_busca.find('div', {'class': 'ad-card-list'}).find_all('div', {'class': 'ad-card'}):\n",
        "    caracteristicas = resultado.find('ul', {'class': 'features'})\n",
        "    recursos = resultado.find('ul', {'class': 'resources'})\n",
        "    precos_corretora = resultado.find('div', {'class': 'ad-card-price'})\n",
        "    localizacao = resultado.find('div', {'class': 'ad-card-info'}).find('p')\n",
        "    \n",
        "    resutado_dict = {}\n",
        "    \n",
        "    resutado_dict['área'] = int(caracteristicas.find_all('li')[0].get_text().replace(' ','').replace('m²',''))\n",
        "    resutado_dict['quartos'] = int(caracteristicas.find_all('li')[1].get_text().replace(' ','').replace('quarto(s)',''))\n",
        "    resutado_dict['banheiros'] = int(caracteristicas.find_all('li')[2].get_text().replace(' ','').replace('banheiro(s)',''))\n",
        "    resutado_dict['vagas garagem'] = int(caracteristicas.find_all('li')[3].get_text().replace(' ','').replace('vaga(s)',''))\n",
        "    \n",
        "    for recur in recursos.find_all('li'):\n",
        "        resutado_dict[recur.get_text().lower()] = 'sim'\n",
        "        \n",
        "    resutado_dict['aluguel'] = float(precos_corretora.find_all('p')[0].get_text().replace('Aluguel: R$ ','').replace('.','').replace(',','.'))\n",
        "    resutado_dict['condomínio'] = float(precos_corretora.find_all('p')[1].get_text().replace('Condomínio: ','').replace('.','').replace(',','.'))\n",
        "    resutado_dict['iptu'] = float(precos_corretora.find_all('p')[2].get_text().replace('IPTU: R$ ','').replace('.','').replace(',','.'))\n",
        "    \n",
        "    resutado_dict['corretora'] = precos_corretora.find_all('p')[3].get_text().replace('Corretora: ','')\n",
        "    \n",
        "    resutado_dict['localizacao'] = localizacao.get_text().replace('Localização: ','')\n",
        "    \n",
        "    resutados_lista.append(resutado_dict)"
      ],
      "execution_count": null,
      "outputs": []
    },
    {
      "cell_type": "code",
      "metadata": {
        "trusted": true,
        "id": "cjkHNoP1gaFY"
      },
      "source": [
        "resultados_df = pd.DataFrame(resutados_lista)\n",
        "resultados_df"
      ],
      "execution_count": null,
      "outputs": []
    },
    {
      "cell_type": "code",
      "metadata": {
        "trusted": true,
        "id": "KJoD3oYbgaFY"
      },
      "source": [
        "resultados_df = resultados_df.fillna(value='não')\n",
        "resultados_df"
      ],
      "execution_count": null,
      "outputs": []
    },
    {
      "cell_type": "code",
      "metadata": {
        "trusted": true,
        "id": "nnVaONlhgaFY"
      },
      "source": [
        "resultados_df.dtypes"
      ],
      "execution_count": null,
      "outputs": []
    },
    {
      "cell_type": "markdown",
      "metadata": {
        "id": "P9NQWPaegaFZ"
      },
      "source": [
        "### 3.3) Coletando as imagens da primeira página"
      ]
    },
    {
      "cell_type": "markdown",
      "metadata": {
        "id": "6oIhpYzFgaFa"
      },
      "source": [
        "#### 3.3.1) Criando um diretório para as imagens"
      ]
    },
    {
      "cell_type": "code",
      "metadata": {
        "trusted": true,
        "id": "dzzUP-RNgaFa"
      },
      "source": [
        "import os"
      ],
      "execution_count": null,
      "outputs": []
    },
    {
      "cell_type": "code",
      "metadata": {
        "trusted": true,
        "id": "0ZO-n2iDgaFa"
      },
      "source": [
        "os.makedirs('imagens')"
      ],
      "execution_count": null,
      "outputs": []
    },
    {
      "cell_type": "markdown",
      "metadata": {
        "id": "Za3OWKQlgaFc"
      },
      "source": [
        "#### 3.3.2) Obtendo as imagens"
      ]
    },
    {
      "cell_type": "code",
      "metadata": {
        "trusted": true,
        "id": "5WF8J5HrgaFg"
      },
      "source": [
        "soup_busca.find('div', {'class': 'ad-card-list'})"
      ],
      "execution_count": null,
      "outputs": []
    },
    {
      "cell_type": "code",
      "metadata": {
        "trusted": true,
        "id": "DrTwwGCugaFh"
      },
      "source": [
        "soup_busca.find('div', {'class': 'ad-card-list'}).find_all('div', {'class': 'ad-card'})"
      ],
      "execution_count": null,
      "outputs": []
    },
    {
      "cell_type": "code",
      "metadata": {
        "trusted": true,
        "id": "0qlnvWEXgaFi"
      },
      "source": [
        "for resultado in soup_busca.find('div', {'class': 'ad-card-list'}).find_all('div', {'class': 'ad-card'}):\n",
        "    print(resultado.img)"
      ],
      "execution_count": null,
      "outputs": []
    },
    {
      "cell_type": "code",
      "metadata": {
        "trusted": true,
        "id": "q826EOZggaFj"
      },
      "source": [
        "for resultado in soup_busca.find('div', {'class': 'ad-card-list'}).find_all('div', {'class': 'ad-card'}):\n",
        "    print(resultado.img.get('src'))"
      ],
      "execution_count": null,
      "outputs": []
    },
    {
      "cell_type": "code",
      "metadata": {
        "trusted": true,
        "id": "CoyYzmOpgaFk"
      },
      "source": [
        "for resultado in soup_busca.find('div', {'class': 'ad-card-list'}).find_all('div', {'class': 'ad-card'}):\n",
        "    print(resultado.img.get('src').replace('imagens/',''))"
      ],
      "execution_count": null,
      "outputs": []
    },
    {
      "cell_type": "code",
      "metadata": {
        "trusted": true,
        "id": "TjTfx94SgaFl"
      },
      "source": [
        "endereco = 'https://ocean-web-scraping.herokuapp.com/'\n",
        "\n",
        "for resultado in soup_busca.find('div', {'class': 'ad-card-list'}).find_all('div', {'class': 'ad-card'}):\n",
        "    print(endereco + resultado.img.get('src'))"
      ],
      "execution_count": null,
      "outputs": []
    },
    {
      "cell_type": "code",
      "metadata": {
        "trusted": true,
        "id": "uggSshjjgaFl"
      },
      "source": [
        "from urllib.request import urlretrieve"
      ],
      "execution_count": null,
      "outputs": []
    },
    {
      "cell_type": "code",
      "metadata": {
        "trusted": true,
        "id": "qPvvwPyygaFl"
      },
      "source": [
        "for resultado in soup_busca.find('div', {'class': 'ad-card-list'}).find_all('div', {'class': 'ad-card'}):\n",
        "    endereco_imagem = endereco + resultado.img.get('src')\n",
        "    nome_imagem = resultado.img.get('src').replace('imagens/','')\n",
        "    \n",
        "    urlretrieve(endereco_imagem, '/kaggle/working/imagens/' + nome_imagem)"
      ],
      "execution_count": null,
      "outputs": []
    },
    {
      "cell_type": "markdown",
      "metadata": {
        "id": "wx2FcdGhgaFn"
      },
      "source": [
        "#### 3.3.3) Compactando todas as imagens para baixar posteriormente"
      ]
    },
    {
      "cell_type": "code",
      "metadata": {
        "trusted": true,
        "id": "2XdBOWUHgaFn"
      },
      "source": [
        "from zipfile import ZipFile"
      ],
      "execution_count": null,
      "outputs": []
    },
    {
      "cell_type": "code",
      "metadata": {
        "trusted": true,
        "id": "IBBPVKkYgaFo"
      },
      "source": [
        "with ZipFile('imagens.zip', 'w') as zf:\n",
        "    for pasta_principal, sub_pastas, arquivos in os.walk('/kaggle/working/imagens/'):\n",
        "        for arquivo in arquivos:\n",
        "            pasta = os.path.join(pasta_principal, arquivo)\n",
        "            zf.write(pasta)"
      ],
      "execution_count": null,
      "outputs": []
    },
    {
      "cell_type": "markdown",
      "metadata": {
        "id": "Ea0OY_ovgaFo"
      },
      "source": [
        "### 3.4) E se eu quiser coletar todos os resultados da busca por imóveis?"
      ]
    },
    {
      "cell_type": "markdown",
      "metadata": {
        "id": "spPtw-LagaFp"
      },
      "source": [
        "#### 3.4.1) Dados gerais"
      ]
    },
    {
      "cell_type": "code",
      "metadata": {
        "trusted": true,
        "id": "mghxEq4ggaFx"
      },
      "source": [
        "resutados_lista = []"
      ],
      "execution_count": null,
      "outputs": []
    },
    {
      "cell_type": "code",
      "metadata": {
        "trusted": true,
        "id": "jBUg2sNVgaFz"
      },
      "source": [
        "for i in range(1,6):\n",
        "    url_busca_todos = 'https://ocean-web-scraping.herokuapp.com/results&page=' + str(i) + '.html'\n",
        "    print(url_busca_todos)\n",
        "    response_busca_todos = urlopen(url_busca_todos)\n",
        "    html_busca_todos = response_busca_todos.read()\n",
        "    soup_busca_todos = BeautifulSoup(html_busca_todos, 'html.parser')\n",
        "    \n",
        "    for resultado in soup_busca_todos.find('div', {'class': 'ad-card-list'}).find_all('div', {'class': 'ad-card'}):\n",
        "        caracteristicas = resultado.find('ul', {'class': 'features'})\n",
        "        recursos = resultado.find('ul', {'class': 'resources'})\n",
        "        precos_corretora = resultado.find('div', {'class': 'ad-card-price'})\n",
        "        localizacao = resultado.find('div', {'class': 'ad-card-info'}).find('p')\n",
        "\n",
        "        resutado_dict = {}\n",
        "\n",
        "        resutado_dict['área'] = int(caracteristicas.find_all('li')[0].get_text().replace(' ','').replace('m²',''))\n",
        "        resutado_dict['quartos'] = int(caracteristicas.find_all('li')[1].get_text().replace(' ','').replace('quarto(s)',''))\n",
        "        resutado_dict['banheiros'] = int(caracteristicas.find_all('li')[2].get_text().replace(' ','').replace('banheiro(s)',''))\n",
        "        resutado_dict['vagas garagem'] = int(caracteristicas.find_all('li')[3].get_text().replace(' ','').replace('vaga(s)',''))\n",
        "\n",
        "        for recur in recursos.find_all('li'):\n",
        "            resutado_dict[recur.get_text().lower()] = 'sim'\n",
        "\n",
        "        resutado_dict['aluguel'] = float(precos_corretora.find_all('p')[0].get_text().replace('Aluguel: R$ ','').replace('.','').replace(',','.'))\n",
        "        resutado_dict['condomínio'] = float(precos_corretora.find_all('p')[1].get_text().replace('Condomínio: ','').replace('.','').replace(',','.'))\n",
        "        resutado_dict['iptu'] = float(precos_corretora.find_all('p')[2].get_text().replace('IPTU: R$ ','').replace('.','').replace(',','.'))\n",
        "        resutado_dict['corretora'] = precos_corretora.find_all('p')[3].get_text().replace('Corretora: ','')\n",
        "\n",
        "        resutado_dict['localizacao'] = localizacao.get_text().replace('Localização: ','')\n",
        "\n",
        "        resutados_lista.append(resutado_dict)"
      ],
      "execution_count": null,
      "outputs": []
    },
    {
      "cell_type": "code",
      "metadata": {
        "trusted": true,
        "id": "Z0PlEi_EgaF1"
      },
      "source": [
        "resultados_df = pd.DataFrame(resutados_lista)\n",
        "resultados_df = resultados_df.fillna(value='não')\n",
        "resultados_df"
      ],
      "execution_count": null,
      "outputs": []
    },
    {
      "cell_type": "markdown",
      "metadata": {
        "id": "_BkKr_i4gaF1"
      },
      "source": [
        "#### Salvando toda a base de dados"
      ]
    },
    {
      "cell_type": "code",
      "metadata": {
        "trusted": true,
        "id": "YWxNDu6wgaF2"
      },
      "source": [
        "resultados_df.to_csv('./resultados.csv', sep = ';', index = False, encoding = 'utf-8')"
      ],
      "execution_count": null,
      "outputs": []
    },
    {
      "cell_type": "markdown",
      "metadata": {
        "id": "eVaqTPiqgaF2"
      },
      "source": [
        "#### 3.4.2) Imagens"
      ]
    },
    {
      "cell_type": "code",
      "metadata": {
        "trusted": true,
        "id": "RIerE-8fgaF3"
      },
      "source": [
        "for i in range(1,6):\n",
        "    url_busca_todos = 'https://ocean-web-scraping.herokuapp.com/results&page=' + str(i) + '.html'\n",
        "    print(url_busca_todos)\n",
        "    response_busca_todos = urlopen(url_busca_todos)\n",
        "    html_busca_todos = response_busca_todos.read()\n",
        "    soup_busca_todos = BeautifulSoup(html_busca_todos, 'html.parser')\n",
        "    \n",
        "    endereco = 'https://ocean-web-scraping.herokuapp.com/'\n",
        "    \n",
        "    for resultado in soup_busca_todos.find('div', {'class': 'ad-card-list'}).find_all('div', {'class': 'ad-card'}):\n",
        "        endereco_imagem = endereco + resultado.img.get('src')\n",
        "        nome_imagem = resultado.img.get('src').replace('imagens/','')\n",
        "    \n",
        "        urlretrieve(endereco_imagem, '/kaggle/working/imagens/' + nome_imagem)"
      ],
      "execution_count": null,
      "outputs": []
    },
    {
      "cell_type": "code",
      "metadata": {
        "trusted": true,
        "id": "jkUkk1XXgaF4"
      },
      "source": [
        "with ZipFile('imagens.zip', 'w') as zf:\n",
        "    for pasta_principal, sub_pastas, arquivos in os.walk('/kaggle/working/imagens/'):\n",
        "        for arquivo in arquivos:\n",
        "            pasta = os.path.join(pasta_principal, arquivo)\n",
        "            zf.write(pasta)"
      ],
      "execution_count": null,
      "outputs": []
    },
    {
      "cell_type": "markdown",
      "metadata": {
        "id": "tHBJiXPegaF4"
      },
      "source": [
        "## 4) Coletando a lista de contato das corretoras"
      ]
    },
    {
      "cell_type": "code",
      "metadata": {
        "trusted": true,
        "id": "FVJHtu2MgaF5"
      },
      "source": [
        "lista_corretoras = []\n",
        "lista_nomes = []\n",
        "lista_contatos = []\n",
        "contatos_corretoras_dict = {}"
      ],
      "execution_count": null,
      "outputs": []
    },
    {
      "cell_type": "markdown",
      "metadata": {
        "id": "shnUdv4cgaF6"
      },
      "source": [
        "### 4.1) Coletando dados da corretora 'Tubarão'"
      ]
    },
    {
      "cell_type": "code",
      "metadata": {
        "trusted": true,
        "id": "NKyGMpAtgaGC"
      },
      "source": [
        "soup_corretoras.find('tbody')"
      ],
      "execution_count": null,
      "outputs": []
    },
    {
      "cell_type": "code",
      "metadata": {
        "trusted": true,
        "id": "ujLn5QtogaGE"
      },
      "source": [
        "soup_corretoras.find('tbody').find_all('tr')"
      ],
      "execution_count": null,
      "outputs": []
    },
    {
      "cell_type": "code",
      "metadata": {
        "trusted": true,
        "id": "su1UQ4xLgaGE"
      },
      "source": [
        "soup_corretoras.find('tbody').find_all('tr')[0]"
      ],
      "execution_count": null,
      "outputs": []
    },
    {
      "cell_type": "code",
      "metadata": {
        "trusted": true,
        "id": "XVRKBb-EgaGF"
      },
      "source": [
        "soup_corretoras.find('tbody').find_all('tr')[0].find_all('td')"
      ],
      "execution_count": null,
      "outputs": []
    },
    {
      "cell_type": "code",
      "metadata": {
        "trusted": true,
        "id": "KX_IecXKgaGF"
      },
      "source": [
        "print('Corretora: ', soup_corretoras.find('tbody').find_all('tr')[0].find_all('td')[0].get_text())\n",
        "print('Contatos: ', soup_corretoras.find('tbody').find_all('tr')[0].find_all('td')[1].get_text())"
      ],
      "execution_count": null,
      "outputs": []
    },
    {
      "cell_type": "code",
      "metadata": {
        "trusted": true,
        "id": "Lge_cPDhgaGG"
      },
      "source": [
        "soup_corretoras.find('tbody').find_all('tr')[0].find_all('td')[1].get_text().split(' - Fone:')"
      ],
      "execution_count": null,
      "outputs": []
    },
    {
      "cell_type": "code",
      "metadata": {
        "trusted": true,
        "id": "4a7UMyedgaGG"
      },
      "source": [
        "print('Corretora: ', soup_corretoras.find('tbody').find_all('tr')[0].find_all('td')[0].get_text())\n",
        "\n",
        "contato = soup_corretoras.find('tbody').find_all('tr')[0].find_all('td')[1].get_text().split(' - Fone:')\n",
        "print('Nome: ', contato[0])\n",
        "print('Telefone: ', contato[1])"
      ],
      "execution_count": null,
      "outputs": []
    },
    {
      "cell_type": "markdown",
      "metadata": {
        "id": "QBhlQgF-gaGG"
      },
      "source": [
        "#### Salvando os dados nas listas"
      ]
    },
    {
      "cell_type": "code",
      "metadata": {
        "trusted": true,
        "id": "2BChN6CxgaGG"
      },
      "source": [
        "lista_corretoras.append(soup_corretoras.find('tbody').find_all('tr')[0].find_all('td')[0].get_text())\n",
        "lista_nomes.append(contato[0])\n",
        "lista_contatos.append(contato[1])"
      ],
      "execution_count": null,
      "outputs": []
    },
    {
      "cell_type": "code",
      "metadata": {
        "trusted": true,
        "id": "YbeX5m91gaGH"
      },
      "source": [
        "lista_corretoras, lista_nomes, lista_contatos"
      ],
      "execution_count": null,
      "outputs": []
    },
    {
      "cell_type": "markdown",
      "metadata": {
        "id": "SkS9LGC5gaGH"
      },
      "source": [
        "### 4.2) Coletando dados da corretora 'Carangueijo'"
      ]
    },
    {
      "cell_type": "code",
      "metadata": {
        "trusted": true,
        "id": "nWDFr7WpgaGI"
      },
      "source": [
        "soup_corretoras.find('tbody').find_all('tr')[1]"
      ],
      "execution_count": null,
      "outputs": []
    },
    {
      "cell_type": "code",
      "metadata": {
        "trusted": true,
        "id": "tDvRubLrgaGJ"
      },
      "source": [
        "soup_corretoras.find('tbody').find_all('tr')[1].find_all('td')"
      ],
      "execution_count": null,
      "outputs": []
    },
    {
      "cell_type": "markdown",
      "metadata": {
        "id": "i9G90dLEgaGJ"
      },
      "source": [
        "#### Problema de aplicar a mesma solução da corretora 'Tubarão'"
      ]
    },
    {
      "cell_type": "code",
      "metadata": {
        "trusted": true,
        "id": "fy9sYf-TgaGK"
      },
      "source": [
        "soup_corretoras.find('tbody').find_all('tr')[1].find_all('td')[1].get_text().split(' - Fone:')"
      ],
      "execution_count": null,
      "outputs": []
    },
    {
      "cell_type": "markdown",
      "metadata": {
        "id": "djkRNC98gaGK"
      },
      "source": [
        "#### Resolvendo o problema"
      ]
    },
    {
      "cell_type": "code",
      "metadata": {
        "trusted": true,
        "id": "UYCAJ_nmgaGK"
      },
      "source": [
        "soup_corretoras.find('tbody').find_all('tr')[1].find_all('td')[1].get_text().split('; ')"
      ],
      "execution_count": null,
      "outputs": []
    },
    {
      "cell_type": "code",
      "metadata": {
        "trusted": true,
        "id": "cPsjjePggaGK"
      },
      "source": [
        "for item in soup_corretoras.find('tbody').find_all('tr')[1].find_all('td')[1].get_text().split('; '):\n",
        "    print(item.split(' - Fone:'))"
      ],
      "execution_count": null,
      "outputs": []
    },
    {
      "cell_type": "code",
      "metadata": {
        "trusted": true,
        "id": "glK4FY-qgaGL"
      },
      "source": [
        "print('Corretora: ', soup_corretoras.find('tbody').find_all('tr')[1].find_all('td')[0].get_text())\n",
        "\n",
        "contatos = soup_corretoras.find('tbody').find_all('tr')[1].find_all('td')[1].get_text().split('; ')\n",
        "\n",
        "for contato in contatos:\n",
        "    contato = contato.split(' - Fone:')\n",
        "    print('Nome: ', contato[0])\n",
        "    print('Telefone: ', contato[1])"
      ],
      "execution_count": null,
      "outputs": []
    },
    {
      "cell_type": "markdown",
      "metadata": {
        "id": "MALqkCJFgaGO"
      },
      "source": [
        "#### Salvando os dados nas listas"
      ]
    },
    {
      "cell_type": "code",
      "metadata": {
        "trusted": true,
        "id": "dusFceRMgaGO"
      },
      "source": [
        "contatos = soup_corretoras.find('tbody').find_all('tr')[1].find_all('td')[1].get_text().split('; ')\n",
        "\n",
        "for contato in contatos:\n",
        "    lista_corretoras.append(soup_corretoras.find('tbody').find_all('tr')[1].find_all('td')[0].get_text())\n",
        "    \n",
        "    contato = contato.split(' - Fone:')\n",
        "    \n",
        "    lista_nomes.append(contato[0])\n",
        "    lista_contatos.append(contato[1])"
      ],
      "execution_count": null,
      "outputs": []
    },
    {
      "cell_type": "code",
      "metadata": {
        "trusted": true,
        "id": "HgoMruwlgaGP"
      },
      "source": [
        "lista_corretoras, lista_nomes, lista_contatos"
      ],
      "execution_count": null,
      "outputs": []
    },
    {
      "cell_type": "markdown",
      "metadata": {
        "id": "DuaYrtRkgaGU"
      },
      "source": [
        "### 4.3) Coletando dados da corretora 'Baleia Azul'"
      ]
    },
    {
      "cell_type": "code",
      "metadata": {
        "trusted": true,
        "id": "vjx0rmzhgaGU"
      },
      "source": [
        "soup_corretoras.find('tbody').find_all('tr')[2]"
      ],
      "execution_count": null,
      "outputs": []
    },
    {
      "cell_type": "code",
      "metadata": {
        "trusted": true,
        "id": "954QsRF9gaGV"
      },
      "source": [
        "soup_corretoras.find('tbody').find_all('tr')[2].find_all('td')"
      ],
      "execution_count": null,
      "outputs": []
    },
    {
      "cell_type": "code",
      "metadata": {
        "trusted": true,
        "id": "xhXTGUzvgaGX"
      },
      "source": [
        "soup_corretoras.find('tbody').find_all('tr')[2].find_all('td')[1].find_all('li')"
      ],
      "execution_count": null,
      "outputs": []
    },
    {
      "cell_type": "code",
      "metadata": {
        "trusted": true,
        "id": "aH_sxrUEgaGY"
      },
      "source": [
        "print('Corretora: ', soup_corretoras.find('tbody').find_all('tr')[2].find_all('td')[0].get_text())\n",
        "\n",
        "contatos = soup_corretoras.find('tbody').find_all('tr')[2].find_all('td')[1].find_all('li')\n",
        "\n",
        "for contato in contatos:\n",
        "    contato = contato.get_text().split(' - Fone:')\n",
        "    print('Nome: ', contato[0])\n",
        "    print('Telefone: ', contato[1])"
      ],
      "execution_count": null,
      "outputs": []
    },
    {
      "cell_type": "markdown",
      "metadata": {
        "id": "zUC8afbRgaGY"
      },
      "source": [
        "#### Salvando os dados nas listas"
      ]
    },
    {
      "cell_type": "code",
      "metadata": {
        "trusted": true,
        "id": "I1uLMly9gaGZ"
      },
      "source": [
        "contatos = soup_corretoras.find('tbody').find_all('tr')[2].find_all('td')[1].find_all('li')\n",
        "\n",
        "for contato in contatos:\n",
        "    lista_corretoras.append(soup_corretoras.find('tbody').find_all('tr')[2].find_all('td')[0].get_text())\n",
        "    \n",
        "    contato = contato.get_text().split(' - Fone:')\n",
        "    \n",
        "    lista_nomes.append(contato[0])\n",
        "    lista_contatos.append(contato[1])"
      ],
      "execution_count": null,
      "outputs": []
    },
    {
      "cell_type": "code",
      "metadata": {
        "trusted": true,
        "id": "q-wxFrOVgaGZ"
      },
      "source": [
        "lista_corretoras, lista_nomes, lista_contatos"
      ],
      "execution_count": null,
      "outputs": []
    },
    {
      "cell_type": "markdown",
      "metadata": {
        "id": "Z1x9OXmkgaGe"
      },
      "source": [
        "### 4.4) Coletando dados da corretora 'Enguia'"
      ]
    },
    {
      "cell_type": "code",
      "metadata": {
        "trusted": true,
        "id": "aHnwPUwngaGf"
      },
      "source": [
        "!pip install tabula-py"
      ],
      "execution_count": null,
      "outputs": []
    },
    {
      "cell_type": "code",
      "metadata": {
        "trusted": true,
        "id": "o_fde2-EgaGh"
      },
      "source": [
        "import tabula"
      ],
      "execution_count": null,
      "outputs": []
    },
    {
      "cell_type": "code",
      "metadata": {
        "trusted": true,
        "id": "bKcE9WD1gaGh"
      },
      "source": [
        "soup_corretoras.find('tbody').find_all('tr')[3].find_all('td')"
      ],
      "execution_count": null,
      "outputs": []
    },
    {
      "cell_type": "code",
      "metadata": {
        "trusted": true,
        "id": "jA6y2Z3PgaGi"
      },
      "source": [
        "soup_corretoras.find('tbody').find_all('tr')[3].find_all('td')[1]"
      ],
      "execution_count": null,
      "outputs": []
    },
    {
      "cell_type": "code",
      "metadata": {
        "trusted": true,
        "id": "23_pcWhAgaGj"
      },
      "source": [
        "soup_corretoras.find('tbody').find_all('tr')[3].find_all('td')[1].find('a')"
      ],
      "execution_count": null,
      "outputs": []
    },
    {
      "cell_type": "code",
      "metadata": {
        "trusted": true,
        "id": "Ae25y8OogaGk"
      },
      "source": [
        "soup_corretoras.find('tbody').find_all('tr')[3].find_all('td')[1].find('a').get('href')"
      ],
      "execution_count": null,
      "outputs": []
    },
    {
      "cell_type": "code",
      "metadata": {
        "trusted": true,
        "id": "lz0gvsfOgaGl"
      },
      "source": [
        "nome_pdf = soup_corretoras.find('tbody').find_all('tr')[3].find_all('td')[1].find('a').get('href')\n",
        "arquivo = 'https://ocean-web-scraping.herokuapp.com/' + nome_pdf\n",
        "arquivo"
      ],
      "execution_count": null,
      "outputs": []
    },
    {
      "cell_type": "code",
      "metadata": {
        "trusted": true,
        "id": "frOs12wUgaGm"
      },
      "source": [
        "corretora_enguia_df = tabula.read_pdf(arquivo, pages='all', multiple_tables=False)[0]"
      ],
      "execution_count": null,
      "outputs": []
    },
    {
      "cell_type": "code",
      "metadata": {
        "trusted": true,
        "id": "wY7EdbhBgaGp"
      },
      "source": [
        "corretora_enguia_df"
      ],
      "execution_count": null,
      "outputs": []
    },
    {
      "cell_type": "code",
      "metadata": {
        "trusted": true,
        "id": "-lOcOSItgaGq"
      },
      "source": [
        "print('Corretora: ', soup_corretoras.find('tbody').find_all('tr')[3].find_all('td')[0].get_text())\n",
        "\n",
        "for nome,contato in zip(corretora_enguia_df['Corretor(a)'].to_list(),\n",
        "                        corretora_enguia_df['Contato'].to_list()):\n",
        "    print(nome)\n",
        "    print(contato.replace('Fone:',''))"
      ],
      "execution_count": null,
      "outputs": []
    },
    {
      "cell_type": "markdown",
      "metadata": {
        "id": "9PQx3b--gaGs"
      },
      "source": [
        "#### Salvando os dados nas listas"
      ]
    },
    {
      "cell_type": "code",
      "metadata": {
        "trusted": true,
        "id": "NY26BZJ4gaGs"
      },
      "source": [
        "for nome,contato in zip(corretora_enguia_df['Corretor(a)'].to_list(),\n",
        "                        corretora_enguia_df['Contato'].to_list()):\n",
        "    lista_corretoras.append(soup_corretoras.find('tbody').find_all('tr')[3].find_all('td')[0].get_text())\n",
        "    lista_nomes.append(nome)\n",
        "    lista_contatos.append(contato.replace('Fone:',''))"
      ],
      "execution_count": null,
      "outputs": []
    },
    {
      "cell_type": "code",
      "metadata": {
        "trusted": true,
        "id": "FS6ApQWkgaGt"
      },
      "source": [
        "lista_corretoras, lista_nomes, lista_contatos"
      ],
      "execution_count": null,
      "outputs": []
    },
    {
      "cell_type": "markdown",
      "metadata": {
        "id": "_K8ZXlrYgaGu"
      },
      "source": [
        "### 4.5) Persistindo todas as informações das corretoras"
      ]
    },
    {
      "cell_type": "code",
      "metadata": {
        "trusted": true,
        "id": "J2isfh8mgaGv"
      },
      "source": [
        "contatos_corretoras_dict.update({'Corretoras': lista_corretoras,\n",
        "                                 'Nomes': lista_nomes,\n",
        "                                 'Contatos': lista_contatos})\n",
        "\n",
        "contatos_corretoras_dict"
      ],
      "execution_count": null,
      "outputs": []
    },
    {
      "cell_type": "code",
      "metadata": {
        "trusted": true,
        "id": "Mcs2xukzgaGw"
      },
      "source": [
        "contatos_corretoras_df = pd.DataFrame.from_dict(contatos_corretoras_dict)\n",
        "\n",
        "contatos_corretoras_df"
      ],
      "execution_count": null,
      "outputs": []
    },
    {
      "cell_type": "code",
      "metadata": {
        "trusted": true,
        "id": "5x65iUW7gaGy"
      },
      "source": [
        "contatos_corretoras_df.to_csv('./contatos_corretoras.csv', sep = ';', index = False, encoding = 'utf-8')"
      ],
      "execution_count": null,
      "outputs": []
    },
    {
      "cell_type": "markdown",
      "metadata": {
        "id": "w3oOSqWBgaGz"
      },
      "source": [
        "## 5) Análise dos dados coletados"
      ]
    },
    {
      "cell_type": "code",
      "metadata": {
        "trusted": true,
        "id": "3BuSuLB-gaGz"
      },
      "source": [
        "resultados_df"
      ],
      "execution_count": null,
      "outputs": []
    },
    {
      "cell_type": "markdown",
      "metadata": {
        "id": "NMGytEsCgaG0"
      },
      "source": [
        "#### 5.1) Eu gostaria de pagar um aluguel de no máximo R$ 1.800,00 e morar em um apto de pelo menos 2 quartos e com 1 vaga na garagem, no Oceano Atlântico"
      ]
    },
    {
      "cell_type": "code",
      "metadata": {
        "trusted": true,
        "id": "Sqf5BygugaG1"
      },
      "source": [
        "busca = resultados_df['aluguel'] <= 1800\n",
        "busca"
      ],
      "execution_count": null,
      "outputs": []
    },
    {
      "cell_type": "code",
      "metadata": {
        "trusted": true,
        "id": "04RkpI7ZgaG2"
      },
      "source": [
        "len(resultados_df.loc[busca])"
      ],
      "execution_count": null,
      "outputs": []
    },
    {
      "cell_type": "code",
      "metadata": {
        "trusted": true,
        "id": "aNyg2Ke3gaG3"
      },
      "source": [
        "resultados_df.loc[busca]"
      ],
      "execution_count": null,
      "outputs": []
    },
    {
      "cell_type": "code",
      "metadata": {
        "trusted": true,
        "id": "5N3dgPbjgaG5"
      },
      "source": [
        "busca = ((resultados_df['aluguel'] <= 1800) & (resultados_df['quartos'] >= 2))"
      ],
      "execution_count": null,
      "outputs": []
    },
    {
      "cell_type": "code",
      "metadata": {
        "trusted": true,
        "id": "NwM7-hFigaG5"
      },
      "source": [
        "len(resultados_df.loc[busca])"
      ],
      "execution_count": null,
      "outputs": []
    },
    {
      "cell_type": "code",
      "metadata": {
        "trusted": true,
        "id": "bbvuYtoLgaG6"
      },
      "source": [
        "resultados_df.loc[busca]"
      ],
      "execution_count": null,
      "outputs": []
    },
    {
      "cell_type": "code",
      "metadata": {
        "trusted": true,
        "id": "I-1jV1YogaG7"
      },
      "source": [
        "busca = ((resultados_df['aluguel'] <= 1800) & \n",
        "         (resultados_df['quartos'] >= 2) & \n",
        "         (resultados_df['vagas garagem'] >= 1))"
      ],
      "execution_count": null,
      "outputs": []
    },
    {
      "cell_type": "code",
      "metadata": {
        "trusted": true,
        "id": "vsaqpG6XgaG7"
      },
      "source": [
        "len(resultados_df.loc[busca])"
      ],
      "execution_count": null,
      "outputs": []
    },
    {
      "cell_type": "code",
      "metadata": {
        "trusted": true,
        "id": "MxW7whuQgaG9"
      },
      "source": [
        "resultados_df.loc[busca]"
      ],
      "execution_count": null,
      "outputs": []
    },
    {
      "cell_type": "code",
      "metadata": {
        "trusted": true,
        "id": "yuIEhdWegaG9"
      },
      "source": [
        "busca = ((resultados_df['aluguel'] <= 1800) & \n",
        "         (resultados_df['quartos'] >= 2) & \n",
        "         (resultados_df['vagas garagem'] >= 1) &\n",
        "         (resultados_df['localizacao'] == 'Oceano Atlântico'))"
      ],
      "execution_count": null,
      "outputs": []
    },
    {
      "cell_type": "code",
      "metadata": {
        "trusted": true,
        "id": "KbFBJMn1gaG-"
      },
      "source": [
        "len(resultados_df.loc[busca])"
      ],
      "execution_count": null,
      "outputs": []
    },
    {
      "cell_type": "code",
      "metadata": {
        "trusted": true,
        "id": "n6OkjT1DgaG-"
      },
      "source": [
        "resultados_df.loc[busca]"
      ],
      "execution_count": null,
      "outputs": []
    },
    {
      "cell_type": "markdown",
      "metadata": {
        "id": "LJwdql8IgaG_"
      },
      "source": [
        "#### Entrando em contato com as corretoras"
      ]
    },
    {
      "cell_type": "code",
      "metadata": {
        "trusted": true,
        "id": "nHm-kWfngaG_"
      },
      "source": [
        "contatos_corretoras_df"
      ],
      "execution_count": null,
      "outputs": []
    },
    {
      "cell_type": "code",
      "metadata": {
        "trusted": true,
        "id": "-KosgLQFgaHA"
      },
      "source": [
        "busca_corretora = contatos_corretoras_df['Corretoras'] == 'Carangueijo'"
      ],
      "execution_count": null,
      "outputs": []
    },
    {
      "cell_type": "code",
      "metadata": {
        "trusted": true,
        "id": "_QgawueqgaHB"
      },
      "source": [
        "contatos_corretoras_df.loc[busca_corretora]"
      ],
      "execution_count": null,
      "outputs": []
    },
    {
      "cell_type": "markdown",
      "metadata": {
        "id": "mrZQKgC6gaHB"
      },
      "source": [
        "## 6) Exemplos de outras análises"
      ]
    },
    {
      "cell_type": "code",
      "metadata": {
        "trusted": true,
        "id": "RgCSIll6gaHD"
      },
      "source": [
        "import matplotlib.pyplot as plt\n",
        "import seaborn as sns"
      ],
      "execution_count": null,
      "outputs": []
    },
    {
      "cell_type": "code",
      "metadata": {
        "trusted": true,
        "id": "q9ABEq7EgaHE"
      },
      "source": [
        "sns.set(font_scale=1.4)\n",
        "sns.set_style({'font.family': 'serif',\n",
        "               'fontname': 'Times New Roman'})"
      ],
      "execution_count": null,
      "outputs": []
    },
    {
      "cell_type": "markdown",
      "metadata": {
        "id": "d6HcihnGgaHF"
      },
      "source": [
        "### Quem tem mais/menos imóveis?"
      ]
    },
    {
      "cell_type": "code",
      "metadata": {
        "trusted": true,
        "id": "Z1HoW_xtgaHG"
      },
      "source": [
        "resultados_df['localizacao'].value_counts()"
      ],
      "execution_count": null,
      "outputs": []
    },
    {
      "cell_type": "code",
      "metadata": {
        "trusted": true,
        "id": "J14PxrRQgaHG"
      },
      "source": [
        "resultados_df['localizacao'].value_counts().sort_values().plot(kind = 'barh', \n",
        "                                                               figsize=(8, 5))"
      ],
      "execution_count": null,
      "outputs": []
    },
    {
      "cell_type": "markdown",
      "metadata": {
        "id": "aQWT4LyXgaHH"
      },
      "source": [
        "> ### Quais são os locais com imóveis maiores/menores e com os imóveis mais baratos/caros?"
      ]
    },
    {
      "cell_type": "code",
      "metadata": {
        "trusted": true,
        "id": "iCKKr6VsgaHH"
      },
      "source": [
        "fig_dims = (8, 6)\n",
        "fig, ax = plt.subplots(figsize=fig_dims)\n",
        "\n",
        "sns.scatterplot(data = resultados_df, \n",
        "                x = 'área', \n",
        "                y = 'aluguel', \n",
        "                hue = 'localizacao',\n",
        "                s = 200,\n",
        "                ax = ax)"
      ],
      "execution_count": null,
      "outputs": []
    }
  ]
}